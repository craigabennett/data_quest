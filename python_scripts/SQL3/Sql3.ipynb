{
 "cells": [
  {
   "cell_type": "code",
   "execution_count": 2,
   "metadata": {
    "collapsed": true
   },
   "outputs": [],
   "source": [
    "import sqlite3\n",
    "conn = sqlite3.connect(\"nominations.db\")\n",
    "cursor = conn.cursor() \n",
    "\n"
   ]
  },
  {
   "cell_type": "code",
   "execution_count": 3,
   "metadata": {
    "collapsed": false
   },
   "outputs": [
    {
     "name": "stdout",
     "output_type": "stream",
     "text": [
      "[('nominations',), ('ceremonies',), ('nomination_two',)]\n"
     ]
    }
   ],
   "source": [
    "## How to view schema### \n",
    "x = cursor.execute(\"SELECT name FROM sqlite_master WHERE type='table';\").fetchall()\n",
    "\n",
    "print(x)\n",
    "\n",
    "\n",
    "# function to run and return queries# \n",
    "def sql_runner(y):\n",
    "    query = cursor.execute(y).fetchall()\n",
    "    return query\n",
    "\n",
    "\n",
    "    \n",
    "    \n"
   ]
  },
  {
   "cell_type": "code",
   "execution_count": 4,
   "metadata": {
    "collapsed": false
   },
   "outputs": [
    {
     "name": "stdout",
     "output_type": "stream",
     "text": [
      "(2010, 'Actor -- Leading Role', 'Javier Bardem', 0, 'Biutiful', 'Uxbal')\n",
      "(2010, 'Actor -- Leading Role', 'Jeff Bridges', 0, 'True Grit', 'Rooster Cogburn')\n",
      "(2010, 'Actor -- Leading Role', 'Jesse Eisenberg', 0, 'The Social Network', 'Mark Zuckerberg')\n",
      "(2010, 'Actor -- Leading Role', 'Colin Firth', 1, \"The King's Speech\", 'King George VI')\n",
      "(2010, 'Actor -- Leading Role', 'James Franco', 0, '127 Hours', 'Aron Ralston')\n",
      "(2010, 'Actor -- Supporting Role', 'Christian Bale', 1, 'The Fighter', 'Dicky Eklund')\n",
      "(2010, 'Actor -- Supporting Role', 'John Hawkes', 0, \"Winter's Bone\", 'Teardrop')\n",
      "(2010, 'Actor -- Supporting Role', 'Jeremy Renner', 0, 'The Town', 'James Coughlin')\n",
      "(2010, 'Actor -- Supporting Role', 'Mark Ruffalo', 0, 'The Kids Are All Right', 'Paul')\n",
      "(2010, 'Actor -- Supporting Role', 'Geoffrey Rush', 0, \"The King's Speech\", 'Lionel Logue')\n"
     ]
    }
   ],
   "source": [
    "## first ten rows in nominations## \n",
    "\n",
    "query_10 = \"Select * from nominations limit 10\"\n",
    "\n",
    "first_ten = sql_runner(query_10)\n",
    "\n",
    "#Loop to return items in list of queries# \n",
    "for item in first_ten:\n",
    "    print(item)\n",
    "    \n",
    "\n"
   ]
  },
  {
   "cell_type": "code",
   "execution_count": 5,
   "metadata": {
    "collapsed": false
   },
   "outputs": [
    {
     "ename": "OperationalError",
     "evalue": "table ceremonies already exists",
     "output_type": "error",
     "traceback": [
      "\u001b[1;31m\u001b[0m",
      "\u001b[1;31mOperationalError\u001b[0mTraceback (most recent call last)",
      "\u001b[1;32m<ipython-input-5-8d3eef31d7f0>\u001b[0m in \u001b[0;36m<module>\u001b[1;34m()\u001b[0m\n\u001b[0;32m      4\u001b[0m \u001b[0mcreate_table\u001b[0m \u001b[1;33m=\u001b[0m \u001b[1;34m\"CREATE TABLE ceremonies(Id integer Primary Key, Year text,Host text,Foreign Key(Year) References nominations(year))\"\u001b[0m\u001b[1;33m\u001b[0m\u001b[0m\n\u001b[0;32m      5\u001b[0m \u001b[1;33m\u001b[0m\u001b[0m\n\u001b[1;32m----> 6\u001b[1;33m \u001b[0mcursor\u001b[0m\u001b[1;33m.\u001b[0m\u001b[0mexecute\u001b[0m\u001b[1;33m(\u001b[0m\u001b[0mcreate_table\u001b[0m\u001b[1;33m)\u001b[0m\u001b[1;33m\u001b[0m\u001b[0m\n\u001b[0m\u001b[0;32m      7\u001b[0m \u001b[1;33m\u001b[0m\u001b[0m\n\u001b[0;32m      8\u001b[0m \u001b[1;33m\u001b[0m\u001b[0m\n",
      "\u001b[1;31mOperationalError\u001b[0m: table ceremonies already exists"
     ]
    }
   ],
   "source": [
    "#creating a table sqlite3\n",
    "\n",
    "\n",
    "create_table = \"CREATE TABLE ceremonies(Id integer Primary Key, Year text,Host text,Foreign Key(Year) References nominations(year))\"\n",
    "\n",
    "cursor.execute(create_table)\n",
    "\n",
    "\n",
    "    \n",
    "    "
   ]
  },
  {
   "cell_type": "code",
   "execution_count": 6,
   "metadata": {
    "collapsed": false
   },
   "outputs": [
    {
     "name": "stdout",
     "output_type": "stream",
     "text": [
      "[('nominations',), ('ceremonies',), ('nomination_two',)]\n"
     ]
    }
   ],
   "source": [
    "#confirming table is made\n",
    "x = cursor.execute(\"SELECT name FROM sqlite_master WHERE type='table';\").fetchall()\n",
    "print(x)\n",
    "\n"
   ]
  },
  {
   "cell_type": "code",
   "execution_count": 7,
   "metadata": {
    "collapsed": false
   },
   "outputs": [
    {
     "data": {
      "text/plain": [
       "<sqlite3.Cursor at 0x7f21bc687500>"
      ]
     },
     "execution_count": 7,
     "metadata": {},
     "output_type": "execute_result"
    }
   ],
   "source": [
    "\n",
    "\n",
    "\n",
    "#Inserting Data into table \n",
    "#Step_1 create a tuple of the data that we want to insert \n",
    "years_hosts = [(2010, \"Steve Martin\"),\n",
    "               (2009, \"Hugh Jackman\"),\n",
    "               (2008, \"Jon Stewart\"),\n",
    "               (2007, \"Ellen DeGeneres\"),\n",
    "               (2006, \"Jon Stewart\"),\n",
    "               (2005, \"Chris Rock\"),\n",
    "               (2004, \"Billy Crystal\"),\n",
    "               (2003, \"Steve Martin\"),\n",
    "               (2002, \"Whoopi Goldberg\"),\n",
    "               (2001, \"Steve Martin\"),\n",
    "               (2000, \"Billy Crystal\"),]\n",
    "\n",
    "#using the executemany method of sqlit3 we can insert the above into the tables \n",
    "\n",
    "\n",
    "#Step_2 create the query to insert table \n",
    "\n",
    "insert_query = \"INSERT INTO ceremonies (Year,Host) VALUES(?,?)\"\n",
    "#note the above has 2 ?'s because there are two sets of data in the tuple. \n",
    "\n",
    "#Step_3 using the executemany method \n",
    "\n",
    "conn.executemany(insert_query,years_hosts)\n",
    "\n"
   ]
  },
  {
   "cell_type": "code",
   "execution_count": 8,
   "metadata": {
    "collapsed": false
   },
   "outputs": [
    {
     "name": "stdout",
     "output_type": "stream",
     "text": [
      "[(1, '2010', 'Steve Martin'), (2, '2009', 'Hugh Jackman'), (3, '2008', 'Jon Stewart'), (4, '2007', 'Ellen DeGeneres'), (5, '2006', 'Jon Stewart'), (6, '2005', 'Chris Rock'), (7, '2004', 'Billy Crystal'), (8, '2003', 'Steve Martin'), (9, '2002', 'Whoopi Goldberg'), (10, '2001', 'Steve Martin'), (11, '2000', 'Billy Crystal'), (12, '2010', 'Steve Martin'), (13, '2009', 'Hugh Jackman'), (14, '2008', 'Jon Stewart'), (15, '2007', 'Ellen DeGeneres'), (16, '2006', 'Jon Stewart'), (17, '2005', 'Chris Rock'), (18, '2004', 'Billy Crystal'), (19, '2003', 'Steve Martin'), (20, '2002', 'Whoopi Goldberg'), (21, '2001', 'Steve Martin'), (22, '2000', 'Billy Crystal')]\n"
     ]
    }
   ],
   "source": [
    "#testing if above inserted correctly \n",
    "\n",
    "test_ceremonies = \"Select * from ceremonies\"\n",
    "\n",
    "print(sql_runner(test_ceremonies))\n",
    "\n",
    "\n"
   ]
  },
  {
   "cell_type": "code",
   "execution_count": 10,
   "metadata": {
    "collapsed": false
   },
   "outputs": [
    {
     "name": "stdout",
     "output_type": "stream",
     "text": [
      "(2010, 'Actor -- Leading Role', 'Javier Bardem', 0, 'Biutiful', 'Uxbal', 1, '2010', 'Steve Martin')\n",
      "(2010, 'Actor -- Leading Role', 'Javier Bardem', 0, 'Biutiful', 'Uxbal', 12, '2010', 'Steve Martin')\n",
      "(2010, 'Actor -- Leading Role', 'Jeff Bridges', 0, 'True Grit', 'Rooster Cogburn', 1, '2010', 'Steve Martin')\n",
      "(2010, 'Actor -- Leading Role', 'Jeff Bridges', 0, 'True Grit', 'Rooster Cogburn', 12, '2010', 'Steve Martin')\n",
      "(2010, 'Actor -- Leading Role', 'Jesse Eisenberg', 0, 'The Social Network', 'Mark Zuckerberg', 1, '2010', 'Steve Martin')\n",
      "(2010, 'Actor -- Leading Role', 'Jesse Eisenberg', 0, 'The Social Network', 'Mark Zuckerberg', 12, '2010', 'Steve Martin')\n",
      "(2010, 'Actor -- Leading Role', 'Colin Firth', 1, \"The King's Speech\", 'King George VI', 1, '2010', 'Steve Martin')\n",
      "(2010, 'Actor -- Leading Role', 'Colin Firth', 1, \"The King's Speech\", 'King George VI', 12, '2010', 'Steve Martin')\n",
      "(2010, 'Actor -- Leading Role', 'James Franco', 0, '127 Hours', 'Aron Ralston', 1, '2010', 'Steve Martin')\n",
      "(2010, 'Actor -- Leading Role', 'James Franco', 0, '127 Hours', 'Aron Ralston', 12, '2010', 'Steve Martin')\n"
     ]
    }
   ],
   "source": [
    "turn_on_f_key = \"PRAGMA foreign_keys = ON\"\n",
    "turn_onn = sql_runner(turn_on_f_key)\n",
    "\n",
    "test_join = \"select * from nominations left outer join ceremonies on nominations.Year == ceremonies.Year limit 10\"\n",
    "join = sql_runner(test_join)\n",
    "\n",
    "\n",
    "for item in join:\n",
    "    print(item)\n",
    "\n"
   ]
  },
  {
   "cell_type": "code",
   "execution_count": 9,
   "metadata": {
    "collapsed": false
   },
   "outputs": [
    {
     "ename": "OperationalError",
     "evalue": "table nomination_two already exists",
     "output_type": "error",
     "traceback": [
      "\u001b[1;31m\u001b[0m",
      "\u001b[1;31mOperationalError\u001b[0mTraceback (most recent call last)",
      "\u001b[1;32m<ipython-input-9-64f1df013b62>\u001b[0m in \u001b[0;36m<module>\u001b[1;34m()\u001b[0m\n\u001b[0;32m      4\u001b[0m \u001b[0mcreate_nomination_two\u001b[0m \u001b[1;33m=\u001b[0m \u001b[1;34m\"CREATE TABLE nomination_two(Id integer Primary Key, category text, nominee text, movie text, character text, won integer, ceremony_id text, Foreign Key(ceremony_id) References ceremonies(id))\"\u001b[0m\u001b[1;33m\u001b[0m\u001b[0m\n\u001b[0;32m      5\u001b[0m \u001b[1;33m\u001b[0m\u001b[0m\n\u001b[1;32m----> 6\u001b[1;33m \u001b[0mcursor\u001b[0m\u001b[1;33m.\u001b[0m\u001b[0mexecute\u001b[0m\u001b[1;33m(\u001b[0m\u001b[0mcreate_nomination_two\u001b[0m\u001b[1;33m)\u001b[0m\u001b[1;33m\u001b[0m\u001b[0m\n\u001b[0m\u001b[0;32m      7\u001b[0m \u001b[1;33m\u001b[0m\u001b[0m\n\u001b[0;32m      8\u001b[0m \u001b[1;33m\u001b[0m\u001b[0m\n",
      "\u001b[1;31mOperationalError\u001b[0m: table nomination_two already exists"
     ]
    }
   ],
   "source": [
    "# inserting foregin key \n",
    "\n",
    "#Create a table that is inner join of tables \n",
    "create_nomination_two = \"CREATE TABLE nomination_two(Id integer Primary Key, category text, nominee text, movie text, character text, won integer, ceremony_id text, Foreign Key(ceremony_id) References ceremonies(id))\"\n",
    "\n",
    "cursor.execute(create_nomination_two)\n",
    "\n",
    "\n",
    "\n",
    "\n"
   ]
  },
  {
   "cell_type": "code",
   "execution_count": 11,
   "metadata": {
    "collapsed": false
   },
   "outputs": [
    {
     "data": {
      "text/plain": [
       "<sqlite3.Cursor at 0x7f21bc67d110>"
      ]
     },
     "execution_count": 11,
     "metadata": {},
     "output_type": "execute_result"
    }
   ],
   "source": [
    "#Data to insert into nomination_two (tuple)\n",
    "\n",
    "nominations_inner_join = \"SELECT nominations.category, nominations.nominee, nominations.movie, nominations.character, nominations.won, ceremonies.id FROM nominations INNER JOIN ceremonies ON nominations.year == ceremonies.year\"\n",
    "\n",
    "nominations_two_results = sql_runner(nominations_inner_join)\n",
    "\n",
    "#Step_2 create the query to insert table \n",
    "\n",
    "insert_query2 = \"INSERT INTO nomination_two (category,nominee,movie,character,won,ceremony_id) VALUES(?,?,?,?,?,?)\"\n",
    "#note the above has 6 ?'s because there are 6 sets of data in the tuple. \n",
    "\n",
    "\n",
    "conn.executemany(insert_query2,nominations_two_results)\n",
    "\n",
    "\n"
   ]
  },
  {
   "cell_type": "code",
   "execution_count": 12,
   "metadata": {
    "collapsed": false
   },
   "outputs": [
    {
     "name": "stdout",
     "output_type": "stream",
     "text": [
      "[(1, 'Actor -- Leading Role', 'Colin Firth', \"The King's Speech\", 'King George VI', 1, '1'), (2, 'Actor -- Leading Role', 'James Franco', '127 Hours', 'Aron Ralston', 0, '1'), (3, 'Actor -- Leading Role', 'Javier Bardem', 'Biutiful', 'Uxbal', 0, '1'), (4, 'Actor -- Leading Role', 'Jeff Bridges', 'True Grit', 'Rooster Cogburn', 0, '1'), (5, 'Actor -- Leading Role', 'Jesse Eisenberg', 'The Social Network', 'Mark Zuckerberg', 0, '1'), (6, 'Actor -- Supporting Role', 'Christian Bale', 'The Fighter', 'Dicky Eklund', 1, '1'), (7, 'Actor -- Supporting Role', 'Geoffrey Rush', \"The King's Speech\", 'Lionel Logue', 0, '1'), (8, 'Actor -- Supporting Role', 'Jeremy Renner', 'The Town', 'James Coughlin', 0, '1'), (9, 'Actor -- Supporting Role', 'John Hawkes', \"Winter's Bone\", 'Teardrop', 0, '1'), (10, 'Actor -- Supporting Role', 'Mark Ruffalo', 'The Kids Are All Right', 'Paul', 0, '1'), (11, 'Actress -- Leading Role', 'Annette Bening', 'The Kids Are All Right', 'Nic', 0, '1'), (12, 'Actress -- Leading Role', 'Jennifer Lawrence', \"Winter's Bone\", 'Ree', 0, '1'), (13, 'Actress -- Leading Role', 'Michelle Williams', 'Blue Valentine', 'Cindy', 0, '1'), (14, 'Actress -- Leading Role', 'Natalie Portman', 'Black Swan', 'Nina Sayers/The Swan Queen', 1, '1'), (15, 'Actress -- Leading Role', 'Nicole Kidman', 'Rabbit Hole', 'Becca', 0, '1'), (16, 'Actress -- Supporting Role', 'Amy Adams', 'The Fighter', 'Charlene Fleming', 0, '1'), (17, 'Actress -- Supporting Role', 'Hailee Steinfeld', 'True Grit', 'Mattie Ross', 0, '1'), (18, 'Actress -- Supporting Role', 'Helena Bonham Carter', \"The King's Speech\", 'Queen Elizabeth', 0, '1'), (19, 'Actress -- Supporting Role', 'Jacki Weaver', 'Animal Kingdom', \"Janine 'Smurf' Cody\", 0, '1'), (20, 'Actress -- Supporting Role', 'Melissa Leo', 'The Fighter', 'Alice Ward', 1, '1'), (21, 'Actor -- Leading Role', 'Colin Firth', 'A Single Man', 'George', 0, '2'), (22, 'Actor -- Leading Role', 'George Clooney', 'Up in the Air', 'Ryan Bingham', 0, '2'), (23, 'Actor -- Leading Role', 'Jeff Bridges', 'Crazy Heart', 'Bad Blake', 1, '2'), (24, 'Actor -- Leading Role', 'Jeremy Renner', 'The Hurt Locker', 'Staff Sergeant William James', 0, '2'), (25, 'Actor -- Leading Role', 'Morgan Freeman', 'Invictus', 'Nelson Mandela', 0, '2'), (26, 'Actor -- Supporting Role', 'Christoph Waltz', 'Inglourious Basterds', 'Col. Hans Landa', 1, '2'), (27, 'Actor -- Supporting Role', 'Christopher Plummer', 'The Last Station', 'Tolstoy', 0, '2'), (28, 'Actor -- Supporting Role', 'Matt Damon', 'Invictus', 'Francois Pienaar', 0, '2'), (29, 'Actor -- Supporting Role', 'Stanley Tucci', 'The Lovely Bones', 'George Harvey', 0, '2'), (30, 'Actor -- Supporting Role', 'Woody Harrelson', 'The Messenger', 'Captain Tony Stone', 0, '2'), (31, 'Actress -- Leading Role', 'Carey Mulligan', 'An Education', 'Jenny', 0, '2'), (32, 'Actress -- Leading Role', 'Gabourey Sidibe', \"Precious: Based on the Novel 'Push' by Sapphire\", 'Precious', 0, '2'), (33, 'Actress -- Leading Role', 'Helen Mirren', 'The Last Station', 'Sofya', 0, '2'), (34, 'Actress -- Leading Role', 'Meryl Streep', 'Julie & Julia', 'Julia Child', 0, '2'), (35, 'Actress -- Leading Role', 'Sandra Bullock', 'The Blind Side', 'Leigh Anne Tuohy', 1, '2'), (36, 'Actress -- Supporting Role', 'Anna Kendrick', 'Up in the Air', 'Natalie Keener', 0, '2'), (37, 'Actress -- Supporting Role', 'Maggie Gyllenhaal', 'Crazy Heart', 'Jean Craddock', 0, '2'), (38, 'Actress -- Supporting Role', \"Mo'Nique\", \"Precious: Based on the Novel 'Push' by Sapphire\", 'Mary', 1, '2'), (39, 'Actress -- Supporting Role', 'Penélope Cruz', 'Nine', 'Carla', 0, '2'), (40, 'Actress -- Supporting Role', 'Vera Farmiga', 'Up in the Air', 'Alex Goran', 0, '2'), (41, 'Actor -- Leading Role', 'Brad Pitt', 'The Curious Case of Benjamin Button', 'Benjamin Button', 0, '3'), (42, 'Actor -- Leading Role', 'Frank Langella', 'Frost/Nixon', 'Richard Nixon', 0, '3'), (43, 'Actor -- Leading Role', 'Mickey Rourke', 'The Wrestler', 'Randy', 0, '3'), (44, 'Actor -- Leading Role', 'Richard Jenkins', 'The Visitor', 'Walter', 0, '3'), (45, 'Actor -- Leading Role', 'Sean Penn', 'Milk', 'Harvey Milk', 1, '3'), (46, 'Actor -- Supporting Role', 'Heath Ledger', 'The Dark Knight', 'Joker', 1, '3'), (47, 'Actor -- Supporting Role', 'Josh Brolin', 'Milk', 'Dan White', 0, '3'), (48, 'Actor -- Supporting Role', 'Michael Shannon', 'Revolutionary Road', 'John Givings', 0, '3'), (49, 'Actor -- Supporting Role', 'Philip Seymour Hoffman', 'Doubt', 'Father Brendan Flynn', 0, '3'), (50, 'Actor -- Supporting Role', 'Robert Downey Jr.', 'Tropic Thunder', 'Kirk Lazarus', 0, '3'), (51, 'Actress -- Leading Role', 'Angelina Jolie', 'Changeling', 'Christine Collins', 0, '3'), (52, 'Actress -- Leading Role', 'Anne Hathaway', 'Rachel Getting Married', 'Kym', 0, '3'), (53, 'Actress -- Leading Role', 'Kate Winslet', 'The Reader', 'Hanna Schmitz', 1, '3'), (54, 'Actress -- Leading Role', 'Melissa Leo', 'Frozen River', 'Ray Eddy', 0, '3'), (55, 'Actress -- Leading Role', 'Meryl Streep', 'Doubt', 'Sister Aloysius Beauvier', 0, '3'), (56, 'Actress -- Supporting Role', 'Amy Adams', 'Doubt', 'Sister James', 0, '3'), (57, 'Actress -- Supporting Role', 'Marisa Tomei', 'The Wrestler', 'Cassidy', 0, '3'), (58, 'Actress -- Supporting Role', 'Penélope Cruz', 'Vicky Cristina Barcelona', 'Maria Elena', 1, '3'), (59, 'Actress -- Supporting Role', 'Taraji P. Henson', 'The Curious Case of Benjamin Button', 'Queenie', 0, '3'), (60, 'Actress -- Supporting Role', 'Viola Davis', 'Doubt', 'Mrs. Miller', 0, '3'), (61, 'Actor -- Leading Role', 'Daniel Day-Lewis', 'There Will Be Blood', 'Daniel Plainview', 1, '4'), (62, 'Actor -- Leading Role', 'George Clooney', 'Michael Clayton', 'Michael Clayton', 0, '4'), (63, 'Actor -- Leading Role', 'Johnny Depp', 'Sweeney Todd The Demon Barber of Fleet Street', 'Sweeney Todd', 0, '4'), (64, 'Actor -- Leading Role', 'Tommy Lee Jones', 'In the Valley of Elah', 'Hank Deerfield', 0, '4'), (65, 'Actor -- Leading Role', 'Viggo Mortensen', 'Eastern Promises', 'Nikolai', 0, '4'), (66, 'Actor -- Supporting Role', 'Casey Affleck', 'The Assassination of Jesse James by the Coward Robert Ford', 'Robert Ford', 0, '4'), (67, 'Actor -- Supporting Role', 'Hal Holbrook', 'Into the Wild', 'Ron Franz', 0, '4'), (68, 'Actor -- Supporting Role', 'Javier Bardem', 'No Country for Old Men', 'Anton Chigurh', 1, '4'), (69, 'Actor -- Supporting Role', 'Philip Seymour Hoffman', \"Charlie Wilson's War\", 'Gust Avrakotos', 0, '4'), (70, 'Actor -- Supporting Role', 'Tom Wilkinson', 'Michael Clayton', 'Arthur Edens', 0, '4'), (71, 'Actress -- Leading Role', 'Cate Blanchett', 'Elizabeth: The Golden Age', 'Queen Elizabeth I', 0, '4'), (72, 'Actress -- Leading Role', 'Ellen Page', 'Juno', 'Juno MacGuff', 0, '4'), (73, 'Actress -- Leading Role', 'Julie Christie', 'Away from Her', 'Fiona', 0, '4'), (74, 'Actress -- Leading Role', 'Laura Linney', 'The Savages', 'Wendy Savage', 0, '4'), (75, 'Actress -- Leading Role', 'Marion Cotillard', 'La Vie en Rose', 'Edith Piaf', 1, '4'), (76, 'Actress -- Supporting Role', 'Amy Ryan', 'Gone Baby Gone', 'Helene McCready', 0, '4'), (77, 'Actress -- Supporting Role', 'Cate Blanchett', \"I'm Not There\", 'Jude', 0, '4'), (78, 'Actress -- Supporting Role', 'Ruby Dee', 'American Gangster', 'Mama Lucas', 0, '4'), (79, 'Actress -- Supporting Role', 'Saoirse Ronan', 'Atonement', 'Briony Tallis, aged 13', 0, '4'), (80, 'Actress -- Supporting Role', 'Tilda Swinton', 'Michael Clayton', 'Karen Crowder', 1, '4'), (81, 'Actor -- Leading Role', 'Forest Whitaker', 'The Last King of Scotland', 'Idi Amin', 1, '5'), (82, 'Actor -- Leading Role', 'Leonardo DiCaprio', 'Blood Diamond', 'Danny Archer', 0, '5'), (83, 'Actor -- Leading Role', \"Peter O'Toole\", 'Venus', 'Maurice', 0, '5'), (84, 'Actor -- Leading Role', 'Ryan Gosling', 'Half Nelson', 'Dan Dunne', 0, '5'), (85, 'Actor -- Leading Role', 'Will Smith', 'The Pursuit of Happyness', 'Chris Gardner', 0, '5'), (86, 'Actor -- Supporting Role', 'Alan Arkin', 'Little Miss Sunshine', 'Grandpa', 1, '5'), (87, 'Actor -- Supporting Role', 'Djimon Hounsou', 'Blood Diamond', 'Solomon Vandy', 0, '5'), (88, 'Actor -- Supporting Role', 'Eddie Murphy', 'Dreamgirls', \"James 'Thunder' Early\", 0, '5'), (89, 'Actor -- Supporting Role', 'Jackie Earle Haley', 'Little Children', 'Ronnie J. McGorvey', 0, '5'), (90, 'Actor -- Supporting Role', 'Mark Wahlberg', 'The Departed', 'Dignam', 0, '5'), (91, 'Actress -- Leading Role', 'Helen Mirren', 'The Queen', 'The Queen', 1, '5'), (92, 'Actress -- Leading Role', 'Judi Dench', 'Notes on a Scandal', 'Barbara Covett', 0, '5'), (93, 'Actress -- Leading Role', 'Kate Winslet', 'Little Children', 'Sarah Pierce', 0, '5'), (94, 'Actress -- Leading Role', 'Meryl Streep', 'The Devil Wears Prada', 'Miranda Priestly', 0, '5'), (95, 'Actress -- Leading Role', 'Penélope Cruz', 'Volver', 'Raimunda', 0, '5'), (96, 'Actress -- Supporting Role', 'Abigail Breslin', 'Little Miss Sunshine', 'Olive', 0, '5'), (97, 'Actress -- Supporting Role', 'Adriana Barraza', 'Babel', 'Amelia', 0, '5'), (98, 'Actress -- Supporting Role', 'Cate Blanchett', 'Notes on a Scandal', 'Sheba Hart', 0, '5'), (99, 'Actress -- Supporting Role', 'Jennifer Hudson', 'Dreamgirls', 'Effie White', 1, '5'), (100, 'Actress -- Supporting Role', 'Rinko Kikuchi', 'Babel', 'Chieko', 0, '5'), (101, 'Actor -- Leading Role', 'David Strathairn', 'Good Night, and Good Luck.', 'Edward R. Murrow', 0, '6'), (102, 'Actor -- Leading Role', 'Heath Ledger', 'Brokeback Mountain', 'Ennis Del Mar', 0, '6'), (103, 'Actor -- Leading Role', 'Joaquin Phoenix', 'Walk the Line', 'John R. Cash', 0, '6'), (104, 'Actor -- Leading Role', 'Philip Seymour Hoffman', 'Capote', 'Truman Capote', 1, '6'), (105, 'Actor -- Leading Role', 'Terrence Howard', 'Hustle & Flow', 'DJay', 0, '6'), (106, 'Actor -- Supporting Role', 'George Clooney', 'Syriana', 'Bob Barnes', 1, '6'), (107, 'Actor -- Supporting Role', 'Jake Gyllenhaal', 'Brokeback Mountain', 'Jack Twist', 0, '6'), (108, 'Actor -- Supporting Role', 'Matt Dillon', 'Crash', 'Officer Ryan', 0, '6'), (109, 'Actor -- Supporting Role', 'Paul Giamatti', 'Cinderella Man', 'Joe Gould', 0, '6'), (110, 'Actor -- Supporting Role', 'William Hurt', 'A History of Violence', 'Richie Cusack', 0, '6'), (111, 'Actress -- Leading Role', 'Charlize Theron', 'North Country', 'Josey Aimes', 0, '6'), (112, 'Actress -- Leading Role', 'Felicity Huffman', 'Transamerica', 'Bree', 0, '6'), (113, 'Actress -- Leading Role', 'Judi Dench', 'Mrs. Henderson Presents', 'Mrs. Laura Henderson', 0, '6'), (114, 'Actress -- Leading Role', 'Keira Knightley', 'Pride & Prejudice', 'Elizabeth Bennet', 0, '6'), (115, 'Actress -- Leading Role', 'Reese Witherspoon', 'Walk the Line', 'June Carter', 1, '6'), (116, 'Actress -- Supporting Role', 'Amy Adams', 'Junebug', 'Ashley', 0, '6'), (117, 'Actress -- Supporting Role', 'Catherine Keener', 'Capote', 'Nelle Harper Lee', 0, '6'), (118, 'Actress -- Supporting Role', 'Frances McDormand', 'North Country', 'Glory', 0, '6'), (119, 'Actress -- Supporting Role', 'Michelle Williams', 'Brokeback Mountain', 'Alma', 0, '6'), (120, 'Actress -- Supporting Role', 'Rachel Weisz', 'The Constant Gardener', 'Tessa Quayle', 1, '6'), (121, 'Actor -- Leading Role', 'Clint Eastwood', 'Million Dollar Baby', 'Frankie Dunn', 0, '7'), (122, 'Actor -- Leading Role', 'Don Cheadle', 'Hotel Rwanda', 'Paul Rusesabagina', 0, '7'), (123, 'Actor -- Leading Role', 'Jamie Foxx', 'Ray', 'Ray Charles', 1, '7'), (124, 'Actor -- Leading Role', 'Johnny Depp', 'Finding Neverland', 'Sir James Matthew Barrie', 0, '7'), (125, 'Actor -- Leading Role', 'Leonardo DiCaprio', 'The Aviator', 'Howard Hughes', 0, '7'), (126, 'Actor -- Supporting Role', 'Alan Alda', 'The Aviator', 'Senator Ralph Owen Brewster', 0, '7'), (127, 'Actor -- Supporting Role', 'Clive Owen', 'Closer', 'Larry', 0, '7'), (128, 'Actor -- Supporting Role', 'Jamie Foxx', 'Collateral', 'Max', 0, '7'), (129, 'Actor -- Supporting Role', 'Morgan Freeman', 'Million Dollar Baby', 'Eddie Scrap-Iron Dupris', 1, '7'), (130, 'Actor -- Supporting Role', 'Thomas Haden Church', 'Sideways', 'Jack', 0, '7'), (131, 'Actress -- Leading Role', 'Annette Bening', 'Being Julia', 'Julia Lambert', 0, '7'), (132, 'Actress -- Leading Role', 'Catalina Sandino Moreno', 'Maria Full of Grace', 'Maria', 0, '7'), (133, 'Actress -- Leading Role', 'Hilary Swank', 'Million Dollar Baby', 'Maggie Fitzgerald', 1, '7'), (134, 'Actress -- Leading Role', 'Imelda Staunton', 'Vera Drake', 'Vera', 0, '7'), (135, 'Actress -- Leading Role', 'Kate Winslet', 'Eternal Sunshine of the Spotless Mind', 'Clementine Kruczynski', 0, '7'), (136, 'Actress -- Supporting Role', 'Cate Blanchett', 'The Aviator', 'Katharine Hepburn', 1, '7'), (137, 'Actress -- Supporting Role', 'Laura Linney', 'Kinsey', 'Clara McMillen', 0, '7'), (138, 'Actress -- Supporting Role', 'Natalie Portman', 'Closer', 'Alice', 0, '7'), (139, 'Actress -- Supporting Role', 'Sophie Okonedo', 'Hotel Rwanda', 'Tatiana Rusesabagina', 0, '7'), (140, 'Actress -- Supporting Role', 'Virginia Madsen', 'Sideways', 'Maya', 0, '7'), (141, 'Actor -- Leading Role', 'Ben Kingsley', 'House of Sand and Fog', 'Behrani', 0, '8'), (142, 'Actor -- Leading Role', 'Bill Murray', 'Lost in Translation', 'Bob Harris', 0, '8'), (143, 'Actor -- Leading Role', 'Johnny Depp', 'Pirates of the Caribbean: The Curse of the Black Pearl', 'Jack Sparrow', 0, '8'), (144, 'Actor -- Leading Role', 'Jude Law', 'Cold Mountain', 'Inman', 0, '8'), (145, 'Actor -- Leading Role', 'Sean Penn', 'Mystic River', 'Jimmy Markum', 1, '8'), (146, 'Actor -- Supporting Role', 'Alec Baldwin', 'The Cooler', 'Shelly Kaplow', 0, '8'), (147, 'Actor -- Supporting Role', 'Benicio Del Toro', '21 Grams', 'Jack Jordan', 0, '8'), (148, 'Actor -- Supporting Role', 'Djimon Hounsou', 'In America', 'Mateo', 0, '8'), (149, 'Actor -- Supporting Role', 'Ken Watanabe', 'The Last Samurai', 'Katsumoto', 0, '8'), (150, 'Actor -- Supporting Role', 'Tim Robbins', 'Mystic River', 'Dave Boyle', 1, '8'), (151, 'Actress -- Leading Role', 'Charlize Theron', 'Monster', 'Aileen Wuornos', 1, '8'), (152, 'Actress -- Leading Role', 'Diane Keaton', \"Something's Gotta Give\", 'Erica Barry', 0, '8'), (153, 'Actress -- Leading Role', 'Keisha Castle-Hughes', 'Whale Rider', 'Paikea', 0, '8'), (154, 'Actress -- Leading Role', 'Naomi Watts', '21 Grams', 'Cristina Peck', 0, '8'), (155, 'Actress -- Leading Role', 'Samantha Morton', 'In America', 'Sarah', 0, '8'), (156, 'Actress -- Supporting Role', 'Holly Hunter', 'Thirteen', 'Melanie', 0, '8'), (157, 'Actress -- Supporting Role', 'Marcia Gay Harden', 'Mystic River', 'Celeste Boyle', 0, '8'), (158, 'Actress -- Supporting Role', 'Patricia Clarkson', 'Pieces of April', 'Joy Burns', 0, '8'), (159, 'Actress -- Supporting Role', 'Renée Zellweger', 'Cold Mountain', 'Ruby Thewes', 1, '8'), (160, 'Actress -- Supporting Role', 'Shohreh Aghdashloo', 'House of Sand and Fog', 'Nadi', 0, '8'), (161, 'Actor -- Leading Role', 'Adrien Brody', 'The Pianist', 'Wladyslaw Szpilman', 1, '9'), (162, 'Actor -- Leading Role', 'Daniel Day-Lewis', 'Gangs of New York', \"Bill 'The Butcher' Cutting\", 0, '9'), (163, 'Actor -- Leading Role', 'Jack Nicholson', 'About Schmidt', 'Warren Schmidt', 0, '9'), (164, 'Actor -- Leading Role', 'Michael Caine', 'The Quiet American', 'Thomas Fowler', 0, '9'), (165, 'Actor -- Leading Role', 'Nicolas Cage', 'Adaptation', 'Charlie Kaufman & Donald Kaufman', 0, '9'), (166, 'Actor -- Supporting Role', 'Chris Cooper', 'Adaptation', 'John Laroche', 1, '9'), (167, 'Actor -- Supporting Role', 'Christopher Walken', 'Catch Me If You Can', 'Frank Abagnale', 0, '9'), (168, 'Actor -- Supporting Role', 'Ed Harris', 'The Hours', 'Richard Brown', 0, '9'), (169, 'Actor -- Supporting Role', 'John C. Reilly', 'Chicago', 'Amos Hart', 0, '9'), (170, 'Actor -- Supporting Role', 'Paul Newman', 'Road to Perdition', 'John Rooney', 0, '9'), (171, 'Actress -- Leading Role', 'Diane Lane', 'Unfaithful', 'Connie Sumner', 0, '9'), (172, 'Actress -- Leading Role', 'Julianne Moore', 'Far from Heaven', 'Cathy Whitaker', 0, '9'), (173, 'Actress -- Leading Role', 'Nicole Kidman', 'The Hours', 'Virginia Woolf', 1, '9'), (174, 'Actress -- Leading Role', 'Renée Zellweger', 'Chicago', 'Roxie Hart', 0, '9'), (175, 'Actress -- Leading Role', 'Salma Hayek', 'Frida', 'Frida Kahlo', 0, '9'), (176, 'Actress -- Supporting Role', 'Catherine Zeta-Jones', 'Chicago', 'Velma Kelly', 1, '9'), (177, 'Actress -- Supporting Role', 'Julianne Moore', 'The Hours', 'Laura Brown', 0, '9'), (178, 'Actress -- Supporting Role', 'Kathy Bates', 'About Schmidt', 'Roberta Hertzel', 0, '9'), (179, 'Actress -- Supporting Role', 'Meryl Streep', 'Adaptation', 'Susan Orlean', 0, '9'), (180, 'Actress -- Supporting Role', 'Queen Latifah', 'Chicago', 'Matron Mama Morton', 0, '9'), (181, 'Actor -- Leading Role', 'Denzel Washington', 'Training Day', 'Alonzo', 1, '10'), (182, 'Actor -- Leading Role', 'Russell Crowe', 'A Beautiful Mind', 'John Nash', 0, '10'), (183, 'Actor -- Leading Role', 'Sean Penn', 'I Am Sam', 'Sam Dawson', 0, '10'), (184, 'Actor -- Leading Role', 'Tom Wilkinson', 'In the Bedroom', 'Matt Fowler', 0, '10'), (185, 'Actor -- Leading Role', 'Will Smith', 'Ali', 'Muhammad Ali', 0, '10'), (186, 'Actor -- Supporting Role', 'Ben Kingsley', 'Sexy Beast', 'Don Logan', 0, '10'), (187, 'Actor -- Supporting Role', 'Ethan Hawke', 'Training Day', 'Jake', 0, '10'), (188, 'Actor -- Supporting Role', 'Ian McKellen', 'The Lord of the Rings: The Fellowship of the Ring', 'Gandalf', 0, '10'), (189, 'Actor -- Supporting Role', 'Jim Broadbent', 'Iris', 'John Bayley', 1, '10'), (190, 'Actor -- Supporting Role', 'Jon Voight', 'Ali', 'Howard Cosell', 0, '10'), (191, 'Actress -- Leading Role', 'Halle Berry', \"Monster's Ball\", 'Leticia Musgrove', 1, '10'), (192, 'Actress -- Leading Role', 'Judi Dench', 'Iris', 'Iris Murdoch', 0, '10'), (193, 'Actress -- Leading Role', 'Nicole Kidman', 'Moulin Rouge', 'Satine', 0, '10'), (194, 'Actress -- Leading Role', 'Renée Zellweger', \"Bridget Jones's Diary\", 'Bridget Jones', 0, '10'), (195, 'Actress -- Leading Role', 'Sissy Spacek', 'In the Bedroom', 'Ruth Fowler', 0, '10'), (196, 'Actress -- Supporting Role', 'Helen Mirren', 'Gosford Park', 'Mrs. Wilson', 0, '10'), (197, 'Actress -- Supporting Role', 'Jennifer Connelly', 'A Beautiful Mind', 'Alicia Nash', 1, '10'), (198, 'Actress -- Supporting Role', 'Kate Winslet', 'Iris', 'Young Iris Murdoch', 0, '10'), (199, 'Actress -- Supporting Role', 'Maggie Smith', 'Gosford Park', 'Constance, Countess of Trentham', 0, '10'), (200, 'Actress -- Supporting Role', 'Marisa Tomei', 'In the Bedroom', 'Natalie Strout', 0, '10'), (201, 'Actor -- Leading Role', 'Colin Firth', \"The King's Speech\", 'King George VI', 1, '12'), (202, 'Actor -- Leading Role', 'James Franco', '127 Hours', 'Aron Ralston', 0, '12'), (203, 'Actor -- Leading Role', 'Javier Bardem', 'Biutiful', 'Uxbal', 0, '12'), (204, 'Actor -- Leading Role', 'Jeff Bridges', 'True Grit', 'Rooster Cogburn', 0, '12'), (205, 'Actor -- Leading Role', 'Jesse Eisenberg', 'The Social Network', 'Mark Zuckerberg', 0, '12'), (206, 'Actor -- Supporting Role', 'Christian Bale', 'The Fighter', 'Dicky Eklund', 1, '12'), (207, 'Actor -- Supporting Role', 'Geoffrey Rush', \"The King's Speech\", 'Lionel Logue', 0, '12'), (208, 'Actor -- Supporting Role', 'Jeremy Renner', 'The Town', 'James Coughlin', 0, '12'), (209, 'Actor -- Supporting Role', 'John Hawkes', \"Winter's Bone\", 'Teardrop', 0, '12'), (210, 'Actor -- Supporting Role', 'Mark Ruffalo', 'The Kids Are All Right', 'Paul', 0, '12'), (211, 'Actress -- Leading Role', 'Annette Bening', 'The Kids Are All Right', 'Nic', 0, '12'), (212, 'Actress -- Leading Role', 'Jennifer Lawrence', \"Winter's Bone\", 'Ree', 0, '12'), (213, 'Actress -- Leading Role', 'Michelle Williams', 'Blue Valentine', 'Cindy', 0, '12'), (214, 'Actress -- Leading Role', 'Natalie Portman', 'Black Swan', 'Nina Sayers/The Swan Queen', 1, '12'), (215, 'Actress -- Leading Role', 'Nicole Kidman', 'Rabbit Hole', 'Becca', 0, '12'), (216, 'Actress -- Supporting Role', 'Amy Adams', 'The Fighter', 'Charlene Fleming', 0, '12'), (217, 'Actress -- Supporting Role', 'Hailee Steinfeld', 'True Grit', 'Mattie Ross', 0, '12'), (218, 'Actress -- Supporting Role', 'Helena Bonham Carter', \"The King's Speech\", 'Queen Elizabeth', 0, '12'), (219, 'Actress -- Supporting Role', 'Jacki Weaver', 'Animal Kingdom', \"Janine 'Smurf' Cody\", 0, '12'), (220, 'Actress -- Supporting Role', 'Melissa Leo', 'The Fighter', 'Alice Ward', 1, '12'), (221, 'Actor -- Leading Role', 'Colin Firth', 'A Single Man', 'George', 0, '13'), (222, 'Actor -- Leading Role', 'George Clooney', 'Up in the Air', 'Ryan Bingham', 0, '13'), (223, 'Actor -- Leading Role', 'Jeff Bridges', 'Crazy Heart', 'Bad Blake', 1, '13'), (224, 'Actor -- Leading Role', 'Jeremy Renner', 'The Hurt Locker', 'Staff Sergeant William James', 0, '13'), (225, 'Actor -- Leading Role', 'Morgan Freeman', 'Invictus', 'Nelson Mandela', 0, '13'), (226, 'Actor -- Supporting Role', 'Christoph Waltz', 'Inglourious Basterds', 'Col. Hans Landa', 1, '13'), (227, 'Actor -- Supporting Role', 'Christopher Plummer', 'The Last Station', 'Tolstoy', 0, '13'), (228, 'Actor -- Supporting Role', 'Matt Damon', 'Invictus', 'Francois Pienaar', 0, '13'), (229, 'Actor -- Supporting Role', 'Stanley Tucci', 'The Lovely Bones', 'George Harvey', 0, '13'), (230, 'Actor -- Supporting Role', 'Woody Harrelson', 'The Messenger', 'Captain Tony Stone', 0, '13'), (231, 'Actress -- Leading Role', 'Carey Mulligan', 'An Education', 'Jenny', 0, '13'), (232, 'Actress -- Leading Role', 'Gabourey Sidibe', \"Precious: Based on the Novel 'Push' by Sapphire\", 'Precious', 0, '13'), (233, 'Actress -- Leading Role', 'Helen Mirren', 'The Last Station', 'Sofya', 0, '13'), (234, 'Actress -- Leading Role', 'Meryl Streep', 'Julie & Julia', 'Julia Child', 0, '13'), (235, 'Actress -- Leading Role', 'Sandra Bullock', 'The Blind Side', 'Leigh Anne Tuohy', 1, '13'), (236, 'Actress -- Supporting Role', 'Anna Kendrick', 'Up in the Air', 'Natalie Keener', 0, '13'), (237, 'Actress -- Supporting Role', 'Maggie Gyllenhaal', 'Crazy Heart', 'Jean Craddock', 0, '13'), (238, 'Actress -- Supporting Role', \"Mo'Nique\", \"Precious: Based on the Novel 'Push' by Sapphire\", 'Mary', 1, '13'), (239, 'Actress -- Supporting Role', 'Penélope Cruz', 'Nine', 'Carla', 0, '13'), (240, 'Actress -- Supporting Role', 'Vera Farmiga', 'Up in the Air', 'Alex Goran', 0, '13'), (241, 'Actor -- Leading Role', 'Brad Pitt', 'The Curious Case of Benjamin Button', 'Benjamin Button', 0, '14'), (242, 'Actor -- Leading Role', 'Frank Langella', 'Frost/Nixon', 'Richard Nixon', 0, '14'), (243, 'Actor -- Leading Role', 'Mickey Rourke', 'The Wrestler', 'Randy', 0, '14'), (244, 'Actor -- Leading Role', 'Richard Jenkins', 'The Visitor', 'Walter', 0, '14'), (245, 'Actor -- Leading Role', 'Sean Penn', 'Milk', 'Harvey Milk', 1, '14'), (246, 'Actor -- Supporting Role', 'Heath Ledger', 'The Dark Knight', 'Joker', 1, '14'), (247, 'Actor -- Supporting Role', 'Josh Brolin', 'Milk', 'Dan White', 0, '14'), (248, 'Actor -- Supporting Role', 'Michael Shannon', 'Revolutionary Road', 'John Givings', 0, '14'), (249, 'Actor -- Supporting Role', 'Philip Seymour Hoffman', 'Doubt', 'Father Brendan Flynn', 0, '14'), (250, 'Actor -- Supporting Role', 'Robert Downey Jr.', 'Tropic Thunder', 'Kirk Lazarus', 0, '14'), (251, 'Actress -- Leading Role', 'Angelina Jolie', 'Changeling', 'Christine Collins', 0, '14'), (252, 'Actress -- Leading Role', 'Anne Hathaway', 'Rachel Getting Married', 'Kym', 0, '14'), (253, 'Actress -- Leading Role', 'Kate Winslet', 'The Reader', 'Hanna Schmitz', 1, '14'), (254, 'Actress -- Leading Role', 'Melissa Leo', 'Frozen River', 'Ray Eddy', 0, '14'), (255, 'Actress -- Leading Role', 'Meryl Streep', 'Doubt', 'Sister Aloysius Beauvier', 0, '14'), (256, 'Actress -- Supporting Role', 'Amy Adams', 'Doubt', 'Sister James', 0, '14'), (257, 'Actress -- Supporting Role', 'Marisa Tomei', 'The Wrestler', 'Cassidy', 0, '14'), (258, 'Actress -- Supporting Role', 'Penélope Cruz', 'Vicky Cristina Barcelona', 'Maria Elena', 1, '14'), (259, 'Actress -- Supporting Role', 'Taraji P. Henson', 'The Curious Case of Benjamin Button', 'Queenie', 0, '14'), (260, 'Actress -- Supporting Role', 'Viola Davis', 'Doubt', 'Mrs. Miller', 0, '14'), (261, 'Actor -- Leading Role', 'Daniel Day-Lewis', 'There Will Be Blood', 'Daniel Plainview', 1, '15'), (262, 'Actor -- Leading Role', 'George Clooney', 'Michael Clayton', 'Michael Clayton', 0, '15'), (263, 'Actor -- Leading Role', 'Johnny Depp', 'Sweeney Todd The Demon Barber of Fleet Street', 'Sweeney Todd', 0, '15'), (264, 'Actor -- Leading Role', 'Tommy Lee Jones', 'In the Valley of Elah', 'Hank Deerfield', 0, '15'), (265, 'Actor -- Leading Role', 'Viggo Mortensen', 'Eastern Promises', 'Nikolai', 0, '15'), (266, 'Actor -- Supporting Role', 'Casey Affleck', 'The Assassination of Jesse James by the Coward Robert Ford', 'Robert Ford', 0, '15'), (267, 'Actor -- Supporting Role', 'Hal Holbrook', 'Into the Wild', 'Ron Franz', 0, '15'), (268, 'Actor -- Supporting Role', 'Javier Bardem', 'No Country for Old Men', 'Anton Chigurh', 1, '15'), (269, 'Actor -- Supporting Role', 'Philip Seymour Hoffman', \"Charlie Wilson's War\", 'Gust Avrakotos', 0, '15'), (270, 'Actor -- Supporting Role', 'Tom Wilkinson', 'Michael Clayton', 'Arthur Edens', 0, '15'), (271, 'Actress -- Leading Role', 'Cate Blanchett', 'Elizabeth: The Golden Age', 'Queen Elizabeth I', 0, '15'), (272, 'Actress -- Leading Role', 'Ellen Page', 'Juno', 'Juno MacGuff', 0, '15'), (273, 'Actress -- Leading Role', 'Julie Christie', 'Away from Her', 'Fiona', 0, '15'), (274, 'Actress -- Leading Role', 'Laura Linney', 'The Savages', 'Wendy Savage', 0, '15'), (275, 'Actress -- Leading Role', 'Marion Cotillard', 'La Vie en Rose', 'Edith Piaf', 1, '15'), (276, 'Actress -- Supporting Role', 'Amy Ryan', 'Gone Baby Gone', 'Helene McCready', 0, '15'), (277, 'Actress -- Supporting Role', 'Cate Blanchett', \"I'm Not There\", 'Jude', 0, '15'), (278, 'Actress -- Supporting Role', 'Ruby Dee', 'American Gangster', 'Mama Lucas', 0, '15'), (279, 'Actress -- Supporting Role', 'Saoirse Ronan', 'Atonement', 'Briony Tallis, aged 13', 0, '15'), (280, 'Actress -- Supporting Role', 'Tilda Swinton', 'Michael Clayton', 'Karen Crowder', 1, '15'), (281, 'Actor -- Leading Role', 'Forest Whitaker', 'The Last King of Scotland', 'Idi Amin', 1, '16'), (282, 'Actor -- Leading Role', 'Leonardo DiCaprio', 'Blood Diamond', 'Danny Archer', 0, '16'), (283, 'Actor -- Leading Role', \"Peter O'Toole\", 'Venus', 'Maurice', 0, '16'), (284, 'Actor -- Leading Role', 'Ryan Gosling', 'Half Nelson', 'Dan Dunne', 0, '16'), (285, 'Actor -- Leading Role', 'Will Smith', 'The Pursuit of Happyness', 'Chris Gardner', 0, '16'), (286, 'Actor -- Supporting Role', 'Alan Arkin', 'Little Miss Sunshine', 'Grandpa', 1, '16'), (287, 'Actor -- Supporting Role', 'Djimon Hounsou', 'Blood Diamond', 'Solomon Vandy', 0, '16'), (288, 'Actor -- Supporting Role', 'Eddie Murphy', 'Dreamgirls', \"James 'Thunder' Early\", 0, '16'), (289, 'Actor -- Supporting Role', 'Jackie Earle Haley', 'Little Children', 'Ronnie J. McGorvey', 0, '16'), (290, 'Actor -- Supporting Role', 'Mark Wahlberg', 'The Departed', 'Dignam', 0, '16'), (291, 'Actress -- Leading Role', 'Helen Mirren', 'The Queen', 'The Queen', 1, '16'), (292, 'Actress -- Leading Role', 'Judi Dench', 'Notes on a Scandal', 'Barbara Covett', 0, '16'), (293, 'Actress -- Leading Role', 'Kate Winslet', 'Little Children', 'Sarah Pierce', 0, '16'), (294, 'Actress -- Leading Role', 'Meryl Streep', 'The Devil Wears Prada', 'Miranda Priestly', 0, '16'), (295, 'Actress -- Leading Role', 'Penélope Cruz', 'Volver', 'Raimunda', 0, '16'), (296, 'Actress -- Supporting Role', 'Abigail Breslin', 'Little Miss Sunshine', 'Olive', 0, '16'), (297, 'Actress -- Supporting Role', 'Adriana Barraza', 'Babel', 'Amelia', 0, '16'), (298, 'Actress -- Supporting Role', 'Cate Blanchett', 'Notes on a Scandal', 'Sheba Hart', 0, '16'), (299, 'Actress -- Supporting Role', 'Jennifer Hudson', 'Dreamgirls', 'Effie White', 1, '16'), (300, 'Actress -- Supporting Role', 'Rinko Kikuchi', 'Babel', 'Chieko', 0, '16'), (301, 'Actor -- Leading Role', 'David Strathairn', 'Good Night, and Good Luck.', 'Edward R. Murrow', 0, '17'), (302, 'Actor -- Leading Role', 'Heath Ledger', 'Brokeback Mountain', 'Ennis Del Mar', 0, '17'), (303, 'Actor -- Leading Role', 'Joaquin Phoenix', 'Walk the Line', 'John R. Cash', 0, '17'), (304, 'Actor -- Leading Role', 'Philip Seymour Hoffman', 'Capote', 'Truman Capote', 1, '17'), (305, 'Actor -- Leading Role', 'Terrence Howard', 'Hustle & Flow', 'DJay', 0, '17'), (306, 'Actor -- Supporting Role', 'George Clooney', 'Syriana', 'Bob Barnes', 1, '17'), (307, 'Actor -- Supporting Role', 'Jake Gyllenhaal', 'Brokeback Mountain', 'Jack Twist', 0, '17'), (308, 'Actor -- Supporting Role', 'Matt Dillon', 'Crash', 'Officer Ryan', 0, '17'), (309, 'Actor -- Supporting Role', 'Paul Giamatti', 'Cinderella Man', 'Joe Gould', 0, '17'), (310, 'Actor -- Supporting Role', 'William Hurt', 'A History of Violence', 'Richie Cusack', 0, '17'), (311, 'Actress -- Leading Role', 'Charlize Theron', 'North Country', 'Josey Aimes', 0, '17'), (312, 'Actress -- Leading Role', 'Felicity Huffman', 'Transamerica', 'Bree', 0, '17'), (313, 'Actress -- Leading Role', 'Judi Dench', 'Mrs. Henderson Presents', 'Mrs. Laura Henderson', 0, '17'), (314, 'Actress -- Leading Role', 'Keira Knightley', 'Pride & Prejudice', 'Elizabeth Bennet', 0, '17'), (315, 'Actress -- Leading Role', 'Reese Witherspoon', 'Walk the Line', 'June Carter', 1, '17'), (316, 'Actress -- Supporting Role', 'Amy Adams', 'Junebug', 'Ashley', 0, '17'), (317, 'Actress -- Supporting Role', 'Catherine Keener', 'Capote', 'Nelle Harper Lee', 0, '17'), (318, 'Actress -- Supporting Role', 'Frances McDormand', 'North Country', 'Glory', 0, '17'), (319, 'Actress -- Supporting Role', 'Michelle Williams', 'Brokeback Mountain', 'Alma', 0, '17'), (320, 'Actress -- Supporting Role', 'Rachel Weisz', 'The Constant Gardener', 'Tessa Quayle', 1, '17'), (321, 'Actor -- Leading Role', 'Clint Eastwood', 'Million Dollar Baby', 'Frankie Dunn', 0, '18'), (322, 'Actor -- Leading Role', 'Don Cheadle', 'Hotel Rwanda', 'Paul Rusesabagina', 0, '18'), (323, 'Actor -- Leading Role', 'Jamie Foxx', 'Ray', 'Ray Charles', 1, '18'), (324, 'Actor -- Leading Role', 'Johnny Depp', 'Finding Neverland', 'Sir James Matthew Barrie', 0, '18'), (325, 'Actor -- Leading Role', 'Leonardo DiCaprio', 'The Aviator', 'Howard Hughes', 0, '18'), (326, 'Actor -- Supporting Role', 'Alan Alda', 'The Aviator', 'Senator Ralph Owen Brewster', 0, '18'), (327, 'Actor -- Supporting Role', 'Clive Owen', 'Closer', 'Larry', 0, '18'), (328, 'Actor -- Supporting Role', 'Jamie Foxx', 'Collateral', 'Max', 0, '18'), (329, 'Actor -- Supporting Role', 'Morgan Freeman', 'Million Dollar Baby', 'Eddie Scrap-Iron Dupris', 1, '18'), (330, 'Actor -- Supporting Role', 'Thomas Haden Church', 'Sideways', 'Jack', 0, '18'), (331, 'Actress -- Leading Role', 'Annette Bening', 'Being Julia', 'Julia Lambert', 0, '18'), (332, 'Actress -- Leading Role', 'Catalina Sandino Moreno', 'Maria Full of Grace', 'Maria', 0, '18'), (333, 'Actress -- Leading Role', 'Hilary Swank', 'Million Dollar Baby', 'Maggie Fitzgerald', 1, '18'), (334, 'Actress -- Leading Role', 'Imelda Staunton', 'Vera Drake', 'Vera', 0, '18'), (335, 'Actress -- Leading Role', 'Kate Winslet', 'Eternal Sunshine of the Spotless Mind', 'Clementine Kruczynski', 0, '18'), (336, 'Actress -- Supporting Role', 'Cate Blanchett', 'The Aviator', 'Katharine Hepburn', 1, '18'), (337, 'Actress -- Supporting Role', 'Laura Linney', 'Kinsey', 'Clara McMillen', 0, '18'), (338, 'Actress -- Supporting Role', 'Natalie Portman', 'Closer', 'Alice', 0, '18'), (339, 'Actress -- Supporting Role', 'Sophie Okonedo', 'Hotel Rwanda', 'Tatiana Rusesabagina', 0, '18'), (340, 'Actress -- Supporting Role', 'Virginia Madsen', 'Sideways', 'Maya', 0, '18'), (341, 'Actor -- Leading Role', 'Ben Kingsley', 'House of Sand and Fog', 'Behrani', 0, '19'), (342, 'Actor -- Leading Role', 'Bill Murray', 'Lost in Translation', 'Bob Harris', 0, '19'), (343, 'Actor -- Leading Role', 'Johnny Depp', 'Pirates of the Caribbean: The Curse of the Black Pearl', 'Jack Sparrow', 0, '19'), (344, 'Actor -- Leading Role', 'Jude Law', 'Cold Mountain', 'Inman', 0, '19'), (345, 'Actor -- Leading Role', 'Sean Penn', 'Mystic River', 'Jimmy Markum', 1, '19'), (346, 'Actor -- Supporting Role', 'Alec Baldwin', 'The Cooler', 'Shelly Kaplow', 0, '19'), (347, 'Actor -- Supporting Role', 'Benicio Del Toro', '21 Grams', 'Jack Jordan', 0, '19'), (348, 'Actor -- Supporting Role', 'Djimon Hounsou', 'In America', 'Mateo', 0, '19'), (349, 'Actor -- Supporting Role', 'Ken Watanabe', 'The Last Samurai', 'Katsumoto', 0, '19'), (350, 'Actor -- Supporting Role', 'Tim Robbins', 'Mystic River', 'Dave Boyle', 1, '19'), (351, 'Actress -- Leading Role', 'Charlize Theron', 'Monster', 'Aileen Wuornos', 1, '19'), (352, 'Actress -- Leading Role', 'Diane Keaton', \"Something's Gotta Give\", 'Erica Barry', 0, '19'), (353, 'Actress -- Leading Role', 'Keisha Castle-Hughes', 'Whale Rider', 'Paikea', 0, '19'), (354, 'Actress -- Leading Role', 'Naomi Watts', '21 Grams', 'Cristina Peck', 0, '19'), (355, 'Actress -- Leading Role', 'Samantha Morton', 'In America', 'Sarah', 0, '19'), (356, 'Actress -- Supporting Role', 'Holly Hunter', 'Thirteen', 'Melanie', 0, '19'), (357, 'Actress -- Supporting Role', 'Marcia Gay Harden', 'Mystic River', 'Celeste Boyle', 0, '19'), (358, 'Actress -- Supporting Role', 'Patricia Clarkson', 'Pieces of April', 'Joy Burns', 0, '19'), (359, 'Actress -- Supporting Role', 'Renée Zellweger', 'Cold Mountain', 'Ruby Thewes', 1, '19'), (360, 'Actress -- Supporting Role', 'Shohreh Aghdashloo', 'House of Sand and Fog', 'Nadi', 0, '19'), (361, 'Actor -- Leading Role', 'Adrien Brody', 'The Pianist', 'Wladyslaw Szpilman', 1, '20'), (362, 'Actor -- Leading Role', 'Daniel Day-Lewis', 'Gangs of New York', \"Bill 'The Butcher' Cutting\", 0, '20'), (363, 'Actor -- Leading Role', 'Jack Nicholson', 'About Schmidt', 'Warren Schmidt', 0, '20'), (364, 'Actor -- Leading Role', 'Michael Caine', 'The Quiet American', 'Thomas Fowler', 0, '20'), (365, 'Actor -- Leading Role', 'Nicolas Cage', 'Adaptation', 'Charlie Kaufman & Donald Kaufman', 0, '20'), (366, 'Actor -- Supporting Role', 'Chris Cooper', 'Adaptation', 'John Laroche', 1, '20'), (367, 'Actor -- Supporting Role', 'Christopher Walken', 'Catch Me If You Can', 'Frank Abagnale', 0, '20'), (368, 'Actor -- Supporting Role', 'Ed Harris', 'The Hours', 'Richard Brown', 0, '20'), (369, 'Actor -- Supporting Role', 'John C. Reilly', 'Chicago', 'Amos Hart', 0, '20'), (370, 'Actor -- Supporting Role', 'Paul Newman', 'Road to Perdition', 'John Rooney', 0, '20'), (371, 'Actress -- Leading Role', 'Diane Lane', 'Unfaithful', 'Connie Sumner', 0, '20'), (372, 'Actress -- Leading Role', 'Julianne Moore', 'Far from Heaven', 'Cathy Whitaker', 0, '20'), (373, 'Actress -- Leading Role', 'Nicole Kidman', 'The Hours', 'Virginia Woolf', 1, '20'), (374, 'Actress -- Leading Role', 'Renée Zellweger', 'Chicago', 'Roxie Hart', 0, '20'), (375, 'Actress -- Leading Role', 'Salma Hayek', 'Frida', 'Frida Kahlo', 0, '20'), (376, 'Actress -- Supporting Role', 'Catherine Zeta-Jones', 'Chicago', 'Velma Kelly', 1, '20'), (377, 'Actress -- Supporting Role', 'Julianne Moore', 'The Hours', 'Laura Brown', 0, '20'), (378, 'Actress -- Supporting Role', 'Kathy Bates', 'About Schmidt', 'Roberta Hertzel', 0, '20'), (379, 'Actress -- Supporting Role', 'Meryl Streep', 'Adaptation', 'Susan Orlean', 0, '20'), (380, 'Actress -- Supporting Role', 'Queen Latifah', 'Chicago', 'Matron Mama Morton', 0, '20'), (381, 'Actor -- Leading Role', 'Denzel Washington', 'Training Day', 'Alonzo', 1, '21'), (382, 'Actor -- Leading Role', 'Russell Crowe', 'A Beautiful Mind', 'John Nash', 0, '21'), (383, 'Actor -- Leading Role', 'Sean Penn', 'I Am Sam', 'Sam Dawson', 0, '21'), (384, 'Actor -- Leading Role', 'Tom Wilkinson', 'In the Bedroom', 'Matt Fowler', 0, '21'), (385, 'Actor -- Leading Role', 'Will Smith', 'Ali', 'Muhammad Ali', 0, '21'), (386, 'Actor -- Supporting Role', 'Ben Kingsley', 'Sexy Beast', 'Don Logan', 0, '21'), (387, 'Actor -- Supporting Role', 'Ethan Hawke', 'Training Day', 'Jake', 0, '21'), (388, 'Actor -- Supporting Role', 'Ian McKellen', 'The Lord of the Rings: The Fellowship of the Ring', 'Gandalf', 0, '21'), (389, 'Actor -- Supporting Role', 'Jim Broadbent', 'Iris', 'John Bayley', 1, '21'), (390, 'Actor -- Supporting Role', 'Jon Voight', 'Ali', 'Howard Cosell', 0, '21'), (391, 'Actress -- Leading Role', 'Halle Berry', \"Monster's Ball\", 'Leticia Musgrove', 1, '21'), (392, 'Actress -- Leading Role', 'Judi Dench', 'Iris', 'Iris Murdoch', 0, '21'), (393, 'Actress -- Leading Role', 'Nicole Kidman', 'Moulin Rouge', 'Satine', 0, '21'), (394, 'Actress -- Leading Role', 'Renée Zellweger', \"Bridget Jones's Diary\", 'Bridget Jones', 0, '21'), (395, 'Actress -- Leading Role', 'Sissy Spacek', 'In the Bedroom', 'Ruth Fowler', 0, '21'), (396, 'Actress -- Supporting Role', 'Helen Mirren', 'Gosford Park', 'Mrs. Wilson', 0, '21'), (397, 'Actress -- Supporting Role', 'Jennifer Connelly', 'A Beautiful Mind', 'Alicia Nash', 1, '21'), (398, 'Actress -- Supporting Role', 'Kate Winslet', 'Iris', 'Young Iris Murdoch', 0, '21'), (399, 'Actress -- Supporting Role', 'Maggie Smith', 'Gosford Park', 'Constance, Countess of Trentham', 0, '21'), (400, 'Actress -- Supporting Role', 'Marisa Tomei', 'In the Bedroom', 'Natalie Strout', 0, '21')]\n"
     ]
    }
   ],
   "source": [
    "#Test insert \n",
    "test_nomination_two = \"Select * from nomination_two\"\n",
    "\n",
    "print(sql_runner(test_nomination_two))\n"
   ]
  },
  {
   "cell_type": "code",
   "execution_count": 13,
   "metadata": {
    "collapsed": false
   },
   "outputs": [
    {
     "data": {
      "text/plain": [
       "<sqlite3.Cursor at 0x7f21bc657f10>"
      ]
     },
     "execution_count": 13,
     "metadata": {},
     "output_type": "execute_result"
    }
   ],
   "source": [
    "#Deleting nominations\n",
    "\n",
    "Del = \"Drop Table nominations\"\n",
    "cursor.execute(Del)\n",
    "\n"
   ]
  },
  {
   "cell_type": "code",
   "execution_count": 14,
   "metadata": {
    "collapsed": false
   },
   "outputs": [
    {
     "data": {
      "text/plain": [
       "<sqlite3.Cursor at 0x7f21bc657f10>"
      ]
     },
     "execution_count": 14,
     "metadata": {},
     "output_type": "execute_result"
    }
   ],
   "source": [
    "#alter nomination_two \n",
    "\n",
    "Alter = \"ALTER TABLE nomination_two RENAME TO nominations\"\n",
    "cursor.execute(Alter)"
   ]
  },
  {
   "cell_type": "code",
   "execution_count": 16,
   "metadata": {
    "collapsed": false
   },
   "outputs": [
    {
     "name": "stdout",
     "output_type": "stream",
     "text": [
      "[(1, 'Actor -- Leading Role', 'Colin Firth', \"The King's Speech\", 'King George VI', 1, '1'), (2, 'Actor -- Leading Role', 'James Franco', '127 Hours', 'Aron Ralston', 0, '1'), (3, 'Actor -- Leading Role', 'Javier Bardem', 'Biutiful', 'Uxbal', 0, '1'), (4, 'Actor -- Leading Role', 'Jeff Bridges', 'True Grit', 'Rooster Cogburn', 0, '1'), (5, 'Actor -- Leading Role', 'Jesse Eisenberg', 'The Social Network', 'Mark Zuckerberg', 0, '1'), (6, 'Actor -- Supporting Role', 'Christian Bale', 'The Fighter', 'Dicky Eklund', 1, '1'), (7, 'Actor -- Supporting Role', 'Geoffrey Rush', \"The King's Speech\", 'Lionel Logue', 0, '1'), (8, 'Actor -- Supporting Role', 'Jeremy Renner', 'The Town', 'James Coughlin', 0, '1'), (9, 'Actor -- Supporting Role', 'John Hawkes', \"Winter's Bone\", 'Teardrop', 0, '1'), (10, 'Actor -- Supporting Role', 'Mark Ruffalo', 'The Kids Are All Right', 'Paul', 0, '1')]\n"
     ]
    }
   ],
   "source": [
    "test_nomintations_new = \"select * from nominations limit 10\"\n",
    "print(sql_runner(test_nomintations_new))"
   ]
  },
  {
   "cell_type": "code",
   "execution_count": 22,
   "metadata": {
    "collapsed": false
   },
   "outputs": [
    {
     "ename": "OperationalError",
     "evalue": "table movies already exists",
     "output_type": "error",
     "traceback": [
      "\u001b[1;31m\u001b[0m",
      "\u001b[1;31mOperationalError\u001b[0mTraceback (most recent call last)",
      "\u001b[1;32m<ipython-input-22-c0618265dd30>\u001b[0m in \u001b[0;36m<module>\u001b[1;34m()\u001b[0m\n\u001b[0;32m      2\u001b[0m \u001b[1;33m\u001b[0m\u001b[0m\n\u001b[0;32m      3\u001b[0m \u001b[0mmovies\u001b[0m \u001b[1;33m=\u001b[0m \u001b[1;34m\"CREATE TABLE movies (id INTEGER PRIMARY KEY, movie text REFERENCES nominations(movie))\"\u001b[0m\u001b[1;33m\u001b[0m\u001b[0m\n\u001b[1;32m----> 4\u001b[1;33m \u001b[0mcursor\u001b[0m\u001b[1;33m.\u001b[0m\u001b[0mexecute\u001b[0m\u001b[1;33m(\u001b[0m\u001b[0mmovies\u001b[0m\u001b[1;33m)\u001b[0m\u001b[1;33m\u001b[0m\u001b[0m\n\u001b[0m\u001b[0;32m      5\u001b[0m \u001b[1;33m\u001b[0m\u001b[0m\n\u001b[0;32m      6\u001b[0m \u001b[1;33m\u001b[0m\u001b[0m\n",
      "\u001b[1;31mOperationalError\u001b[0m: table movies already exists"
     ]
    }
   ],
   "source": [
    "#create table movies \n",
    "\n",
    "movies = \"CREATE TABLE movies (id INTEGER PRIMARY KEY, movie text REFERENCES nominations(movie))\"\n",
    "cursor.execute(movies)\n",
    "\n",
    "\n",
    "\n",
    "\n",
    "\n",
    "\n",
    "\n"
   ]
  },
  {
   "cell_type": "code",
   "execution_count": 25,
   "metadata": {
    "collapsed": false
   },
   "outputs": [
    {
     "data": {
      "text/plain": [
       "<sqlite3.Cursor at 0x7f21bc67d5e0>"
      ]
     },
     "execution_count": 25,
     "metadata": {},
     "output_type": "execute_result"
    }
   ],
   "source": [
    "# tuple \n",
    "\n",
    "nomination_movies = \"select movie from nominations\"\n",
    "movie_results = sql_runner(nomination_movies)\n",
    "\n",
    "# insert query \n",
    "insert_query_movies = \"INSERT INTO movies (movie) VALUES(?)\"\n",
    "#note the above has 1 ?'s because there are 6 sets of data in the tuple.\n",
    "\n",
    "#execute many \n",
    "conn.executemany(insert_query_movies,movie_results)\n"
   ]
  },
  {
   "cell_type": "code",
   "execution_count": 26,
   "metadata": {
    "collapsed": false
   },
   "outputs": [
    {
     "name": "stdout",
     "output_type": "stream",
     "text": [
      "[(1, \"The King's Speech\"), (2, '127 Hours'), (3, 'Biutiful'), (4, 'True Grit'), (5, 'The Social Network'), (6, 'The Fighter'), (7, \"The King's Speech\"), (8, 'The Town'), (9, \"Winter's Bone\"), (10, 'The Kids Are All Right'), (11, 'The Kids Are All Right'), (12, \"Winter's Bone\"), (13, 'Blue Valentine'), (14, 'Black Swan'), (15, 'Rabbit Hole'), (16, 'The Fighter'), (17, 'True Grit'), (18, \"The King's Speech\"), (19, 'Animal Kingdom'), (20, 'The Fighter'), (21, 'A Single Man'), (22, 'Up in the Air'), (23, 'Crazy Heart'), (24, 'The Hurt Locker'), (25, 'Invictus'), (26, 'Inglourious Basterds'), (27, 'The Last Station'), (28, 'Invictus'), (29, 'The Lovely Bones'), (30, 'The Messenger'), (31, 'An Education'), (32, \"Precious: Based on the Novel 'Push' by Sapphire\"), (33, 'The Last Station'), (34, 'Julie & Julia'), (35, 'The Blind Side'), (36, 'Up in the Air'), (37, 'Crazy Heart'), (38, \"Precious: Based on the Novel 'Push' by Sapphire\"), (39, 'Nine'), (40, 'Up in the Air'), (41, 'The Curious Case of Benjamin Button'), (42, 'Frost/Nixon'), (43, 'The Wrestler'), (44, 'The Visitor'), (45, 'Milk'), (46, 'The Dark Knight'), (47, 'Milk'), (48, 'Revolutionary Road'), (49, 'Doubt'), (50, 'Tropic Thunder'), (51, 'Changeling'), (52, 'Rachel Getting Married'), (53, 'The Reader'), (54, 'Frozen River'), (55, 'Doubt'), (56, 'Doubt'), (57, 'The Wrestler'), (58, 'Vicky Cristina Barcelona'), (59, 'The Curious Case of Benjamin Button'), (60, 'Doubt'), (61, 'There Will Be Blood'), (62, 'Michael Clayton'), (63, 'Sweeney Todd The Demon Barber of Fleet Street'), (64, 'In the Valley of Elah'), (65, 'Eastern Promises'), (66, 'The Assassination of Jesse James by the Coward Robert Ford'), (67, 'Into the Wild'), (68, 'No Country for Old Men'), (69, \"Charlie Wilson's War\"), (70, 'Michael Clayton'), (71, 'Elizabeth: The Golden Age'), (72, 'Juno'), (73, 'Away from Her'), (74, 'The Savages'), (75, 'La Vie en Rose'), (76, 'Gone Baby Gone'), (77, \"I'm Not There\"), (78, 'American Gangster'), (79, 'Atonement'), (80, 'Michael Clayton'), (81, 'The Last King of Scotland'), (82, 'Blood Diamond'), (83, 'Venus'), (84, 'Half Nelson'), (85, 'The Pursuit of Happyness'), (86, 'Little Miss Sunshine'), (87, 'Blood Diamond'), (88, 'Dreamgirls'), (89, 'Little Children'), (90, 'The Departed'), (91, 'The Queen'), (92, 'Notes on a Scandal'), (93, 'Little Children'), (94, 'The Devil Wears Prada'), (95, 'Volver'), (96, 'Little Miss Sunshine'), (97, 'Babel'), (98, 'Notes on a Scandal'), (99, 'Dreamgirls'), (100, 'Babel'), (101, 'Good Night, and Good Luck.'), (102, 'Brokeback Mountain'), (103, 'Walk the Line'), (104, 'Capote'), (105, 'Hustle & Flow'), (106, 'Syriana'), (107, 'Brokeback Mountain'), (108, 'Crash'), (109, 'Cinderella Man'), (110, 'A History of Violence'), (111, 'North Country'), (112, 'Transamerica'), (113, 'Mrs. Henderson Presents'), (114, 'Pride & Prejudice'), (115, 'Walk the Line'), (116, 'Junebug'), (117, 'Capote'), (118, 'North Country'), (119, 'Brokeback Mountain'), (120, 'The Constant Gardener'), (121, 'Million Dollar Baby'), (122, 'Hotel Rwanda'), (123, 'Ray'), (124, 'Finding Neverland'), (125, 'The Aviator'), (126, 'The Aviator'), (127, 'Closer'), (128, 'Collateral'), (129, 'Million Dollar Baby'), (130, 'Sideways'), (131, 'Being Julia'), (132, 'Maria Full of Grace'), (133, 'Million Dollar Baby'), (134, 'Vera Drake'), (135, 'Eternal Sunshine of the Spotless Mind'), (136, 'The Aviator'), (137, 'Kinsey'), (138, 'Closer'), (139, 'Hotel Rwanda'), (140, 'Sideways'), (141, 'House of Sand and Fog'), (142, 'Lost in Translation'), (143, 'Pirates of the Caribbean: The Curse of the Black Pearl'), (144, 'Cold Mountain'), (145, 'Mystic River'), (146, 'The Cooler'), (147, '21 Grams'), (148, 'In America'), (149, 'The Last Samurai'), (150, 'Mystic River'), (151, 'Monster'), (152, \"Something's Gotta Give\"), (153, 'Whale Rider'), (154, '21 Grams'), (155, 'In America'), (156, 'Thirteen'), (157, 'Mystic River'), (158, 'Pieces of April'), (159, 'Cold Mountain'), (160, 'House of Sand and Fog'), (161, 'The Pianist'), (162, 'Gangs of New York'), (163, 'About Schmidt'), (164, 'The Quiet American'), (165, 'Adaptation'), (166, 'Adaptation'), (167, 'Catch Me If You Can'), (168, 'The Hours'), (169, 'Chicago'), (170, 'Road to Perdition'), (171, 'Unfaithful'), (172, 'Far from Heaven'), (173, 'The Hours'), (174, 'Chicago'), (175, 'Frida'), (176, 'Chicago'), (177, 'The Hours'), (178, 'About Schmidt'), (179, 'Adaptation'), (180, 'Chicago'), (181, 'Training Day'), (182, 'A Beautiful Mind'), (183, 'I Am Sam'), (184, 'In the Bedroom'), (185, 'Ali'), (186, 'Sexy Beast'), (187, 'Training Day'), (188, 'The Lord of the Rings: The Fellowship of the Ring'), (189, 'Iris'), (190, 'Ali'), (191, \"Monster's Ball\"), (192, 'Iris'), (193, 'Moulin Rouge'), (194, \"Bridget Jones's Diary\"), (195, 'In the Bedroom'), (196, 'Gosford Park'), (197, 'A Beautiful Mind'), (198, 'Iris'), (199, 'Gosford Park'), (200, 'In the Bedroom'), (201, \"The King's Speech\"), (202, '127 Hours'), (203, 'Biutiful'), (204, 'True Grit'), (205, 'The Social Network'), (206, 'The Fighter'), (207, \"The King's Speech\"), (208, 'The Town'), (209, \"Winter's Bone\"), (210, 'The Kids Are All Right'), (211, 'The Kids Are All Right'), (212, \"Winter's Bone\"), (213, 'Blue Valentine'), (214, 'Black Swan'), (215, 'Rabbit Hole'), (216, 'The Fighter'), (217, 'True Grit'), (218, \"The King's Speech\"), (219, 'Animal Kingdom'), (220, 'The Fighter'), (221, 'A Single Man'), (222, 'Up in the Air'), (223, 'Crazy Heart'), (224, 'The Hurt Locker'), (225, 'Invictus'), (226, 'Inglourious Basterds'), (227, 'The Last Station'), (228, 'Invictus'), (229, 'The Lovely Bones'), (230, 'The Messenger'), (231, 'An Education'), (232, \"Precious: Based on the Novel 'Push' by Sapphire\"), (233, 'The Last Station'), (234, 'Julie & Julia'), (235, 'The Blind Side'), (236, 'Up in the Air'), (237, 'Crazy Heart'), (238, \"Precious: Based on the Novel 'Push' by Sapphire\"), (239, 'Nine'), (240, 'Up in the Air'), (241, 'The Curious Case of Benjamin Button'), (242, 'Frost/Nixon'), (243, 'The Wrestler'), (244, 'The Visitor'), (245, 'Milk'), (246, 'The Dark Knight'), (247, 'Milk'), (248, 'Revolutionary Road'), (249, 'Doubt'), (250, 'Tropic Thunder'), (251, 'Changeling'), (252, 'Rachel Getting Married'), (253, 'The Reader'), (254, 'Frozen River'), (255, 'Doubt'), (256, 'Doubt'), (257, 'The Wrestler'), (258, 'Vicky Cristina Barcelona'), (259, 'The Curious Case of Benjamin Button'), (260, 'Doubt'), (261, 'There Will Be Blood'), (262, 'Michael Clayton'), (263, 'Sweeney Todd The Demon Barber of Fleet Street'), (264, 'In the Valley of Elah'), (265, 'Eastern Promises'), (266, 'The Assassination of Jesse James by the Coward Robert Ford'), (267, 'Into the Wild'), (268, 'No Country for Old Men'), (269, \"Charlie Wilson's War\"), (270, 'Michael Clayton'), (271, 'Elizabeth: The Golden Age'), (272, 'Juno'), (273, 'Away from Her'), (274, 'The Savages'), (275, 'La Vie en Rose'), (276, 'Gone Baby Gone'), (277, \"I'm Not There\"), (278, 'American Gangster'), (279, 'Atonement'), (280, 'Michael Clayton'), (281, 'The Last King of Scotland'), (282, 'Blood Diamond'), (283, 'Venus'), (284, 'Half Nelson'), (285, 'The Pursuit of Happyness'), (286, 'Little Miss Sunshine'), (287, 'Blood Diamond'), (288, 'Dreamgirls'), (289, 'Little Children'), (290, 'The Departed'), (291, 'The Queen'), (292, 'Notes on a Scandal'), (293, 'Little Children'), (294, 'The Devil Wears Prada'), (295, 'Volver'), (296, 'Little Miss Sunshine'), (297, 'Babel'), (298, 'Notes on a Scandal'), (299, 'Dreamgirls'), (300, 'Babel'), (301, 'Good Night, and Good Luck.'), (302, 'Brokeback Mountain'), (303, 'Walk the Line'), (304, 'Capote'), (305, 'Hustle & Flow'), (306, 'Syriana'), (307, 'Brokeback Mountain'), (308, 'Crash'), (309, 'Cinderella Man'), (310, 'A History of Violence'), (311, 'North Country'), (312, 'Transamerica'), (313, 'Mrs. Henderson Presents'), (314, 'Pride & Prejudice'), (315, 'Walk the Line'), (316, 'Junebug'), (317, 'Capote'), (318, 'North Country'), (319, 'Brokeback Mountain'), (320, 'The Constant Gardener'), (321, 'Million Dollar Baby'), (322, 'Hotel Rwanda'), (323, 'Ray'), (324, 'Finding Neverland'), (325, 'The Aviator'), (326, 'The Aviator'), (327, 'Closer'), (328, 'Collateral'), (329, 'Million Dollar Baby'), (330, 'Sideways'), (331, 'Being Julia'), (332, 'Maria Full of Grace'), (333, 'Million Dollar Baby'), (334, 'Vera Drake'), (335, 'Eternal Sunshine of the Spotless Mind'), (336, 'The Aviator'), (337, 'Kinsey'), (338, 'Closer'), (339, 'Hotel Rwanda'), (340, 'Sideways'), (341, 'House of Sand and Fog'), (342, 'Lost in Translation'), (343, 'Pirates of the Caribbean: The Curse of the Black Pearl'), (344, 'Cold Mountain'), (345, 'Mystic River'), (346, 'The Cooler'), (347, '21 Grams'), (348, 'In America'), (349, 'The Last Samurai'), (350, 'Mystic River'), (351, 'Monster'), (352, \"Something's Gotta Give\"), (353, 'Whale Rider'), (354, '21 Grams'), (355, 'In America'), (356, 'Thirteen'), (357, 'Mystic River'), (358, 'Pieces of April'), (359, 'Cold Mountain'), (360, 'House of Sand and Fog'), (361, 'The Pianist'), (362, 'Gangs of New York'), (363, 'About Schmidt'), (364, 'The Quiet American'), (365, 'Adaptation'), (366, 'Adaptation'), (367, 'Catch Me If You Can'), (368, 'The Hours'), (369, 'Chicago'), (370, 'Road to Perdition'), (371, 'Unfaithful'), (372, 'Far from Heaven'), (373, 'The Hours'), (374, 'Chicago'), (375, 'Frida'), (376, 'Chicago'), (377, 'The Hours'), (378, 'About Schmidt'), (379, 'Adaptation'), (380, 'Chicago'), (381, 'Training Day'), (382, 'A Beautiful Mind'), (383, 'I Am Sam'), (384, 'In the Bedroom'), (385, 'Ali'), (386, 'Sexy Beast'), (387, 'Training Day'), (388, 'The Lord of the Rings: The Fellowship of the Ring'), (389, 'Iris'), (390, 'Ali'), (391, \"Monster's Ball\"), (392, 'Iris'), (393, 'Moulin Rouge'), (394, \"Bridget Jones's Diary\"), (395, 'In the Bedroom'), (396, 'Gosford Park'), (397, 'A Beautiful Mind'), (398, 'Iris'), (399, 'Gosford Park'), (400, 'In the Bedroom')]\n"
     ]
    }
   ],
   "source": [
    "test_movies = \"select * from movies \"\n",
    "\n",
    "print(sql_runner(test_movies))"
   ]
  },
  {
   "cell_type": "code",
   "execution_count": 20,
   "metadata": {
    "collapsed": false
   },
   "outputs": [
    {
     "data": {
      "text/plain": [
       "<sqlite3.Cursor at 0x7f21bc657f10>"
      ]
     },
     "execution_count": 20,
     "metadata": {},
     "output_type": "execute_result"
    }
   ],
   "source": [
    "#create table actors \n",
    "actors = \"CREATE TABLE actors (id INTEGER PRIMARY KEY, actor text REFERENCES nominations(nominee))\"\n",
    "cursor.execute(actors)\n",
    "\n"
   ]
  },
  {
   "cell_type": "code",
   "execution_count": 29,
   "metadata": {
    "collapsed": false
   },
   "outputs": [
    {
     "data": {
      "text/plain": [
       "<sqlite3.Cursor at 0x7f21bc67d960>"
      ]
     },
     "execution_count": 29,
     "metadata": {},
     "output_type": "execute_result"
    }
   ],
   "source": [
    "nomination_actors = \"select nominee from nominations\"\n",
    "actor_results = sql_runner(nomination_actors)\n",
    "\n",
    "# insert query \n",
    "insert_query_actors = \"INSERT INTO actors (actor) VALUES(?)\"\n",
    "#note the above has 1 ?'s because there are 6 sets of data in the tuple.\n",
    "\n",
    "#execute many \n",
    "conn.executemany(insert_query_actors,actor_results)"
   ]
  },
  {
   "cell_type": "code",
   "execution_count": 30,
   "metadata": {
    "collapsed": false
   },
   "outputs": [
    {
     "name": "stdout",
     "output_type": "stream",
     "text": [
      "[(1, 'Colin Firth'), (2, 'James Franco'), (3, 'Javier Bardem'), (4, 'Jeff Bridges'), (5, 'Jesse Eisenberg'), (6, 'Christian Bale'), (7, 'Geoffrey Rush'), (8, 'Jeremy Renner'), (9, 'John Hawkes'), (10, 'Mark Ruffalo'), (11, 'Annette Bening'), (12, 'Jennifer Lawrence'), (13, 'Michelle Williams'), (14, 'Natalie Portman'), (15, 'Nicole Kidman'), (16, 'Amy Adams'), (17, 'Hailee Steinfeld'), (18, 'Helena Bonham Carter'), (19, 'Jacki Weaver'), (20, 'Melissa Leo'), (21, 'Colin Firth'), (22, 'George Clooney'), (23, 'Jeff Bridges'), (24, 'Jeremy Renner'), (25, 'Morgan Freeman'), (26, 'Christoph Waltz'), (27, 'Christopher Plummer'), (28, 'Matt Damon'), (29, 'Stanley Tucci'), (30, 'Woody Harrelson'), (31, 'Carey Mulligan'), (32, 'Gabourey Sidibe'), (33, 'Helen Mirren'), (34, 'Meryl Streep'), (35, 'Sandra Bullock'), (36, 'Anna Kendrick'), (37, 'Maggie Gyllenhaal'), (38, \"Mo'Nique\"), (39, 'Penélope Cruz'), (40, 'Vera Farmiga'), (41, 'Brad Pitt'), (42, 'Frank Langella'), (43, 'Mickey Rourke'), (44, 'Richard Jenkins'), (45, 'Sean Penn'), (46, 'Heath Ledger'), (47, 'Josh Brolin'), (48, 'Michael Shannon'), (49, 'Philip Seymour Hoffman'), (50, 'Robert Downey Jr.'), (51, 'Angelina Jolie'), (52, 'Anne Hathaway'), (53, 'Kate Winslet'), (54, 'Melissa Leo'), (55, 'Meryl Streep'), (56, 'Amy Adams'), (57, 'Marisa Tomei'), (58, 'Penélope Cruz'), (59, 'Taraji P. Henson'), (60, 'Viola Davis'), (61, 'Daniel Day-Lewis'), (62, 'George Clooney'), (63, 'Johnny Depp'), (64, 'Tommy Lee Jones'), (65, 'Viggo Mortensen'), (66, 'Casey Affleck'), (67, 'Hal Holbrook'), (68, 'Javier Bardem'), (69, 'Philip Seymour Hoffman'), (70, 'Tom Wilkinson'), (71, 'Cate Blanchett'), (72, 'Ellen Page'), (73, 'Julie Christie'), (74, 'Laura Linney'), (75, 'Marion Cotillard'), (76, 'Amy Ryan'), (77, 'Cate Blanchett'), (78, 'Ruby Dee'), (79, 'Saoirse Ronan'), (80, 'Tilda Swinton'), (81, 'Forest Whitaker'), (82, 'Leonardo DiCaprio'), (83, \"Peter O'Toole\"), (84, 'Ryan Gosling'), (85, 'Will Smith'), (86, 'Alan Arkin'), (87, 'Djimon Hounsou'), (88, 'Eddie Murphy'), (89, 'Jackie Earle Haley'), (90, 'Mark Wahlberg'), (91, 'Helen Mirren'), (92, 'Judi Dench'), (93, 'Kate Winslet'), (94, 'Meryl Streep'), (95, 'Penélope Cruz'), (96, 'Abigail Breslin'), (97, 'Adriana Barraza'), (98, 'Cate Blanchett'), (99, 'Jennifer Hudson'), (100, 'Rinko Kikuchi'), (101, 'David Strathairn'), (102, 'Heath Ledger'), (103, 'Joaquin Phoenix'), (104, 'Philip Seymour Hoffman'), (105, 'Terrence Howard'), (106, 'George Clooney'), (107, 'Jake Gyllenhaal'), (108, 'Matt Dillon'), (109, 'Paul Giamatti'), (110, 'William Hurt'), (111, 'Charlize Theron'), (112, 'Felicity Huffman'), (113, 'Judi Dench'), (114, 'Keira Knightley'), (115, 'Reese Witherspoon'), (116, 'Amy Adams'), (117, 'Catherine Keener'), (118, 'Frances McDormand'), (119, 'Michelle Williams'), (120, 'Rachel Weisz'), (121, 'Clint Eastwood'), (122, 'Don Cheadle'), (123, 'Jamie Foxx'), (124, 'Johnny Depp'), (125, 'Leonardo DiCaprio'), (126, 'Alan Alda'), (127, 'Clive Owen'), (128, 'Jamie Foxx'), (129, 'Morgan Freeman'), (130, 'Thomas Haden Church'), (131, 'Annette Bening'), (132, 'Catalina Sandino Moreno'), (133, 'Hilary Swank'), (134, 'Imelda Staunton'), (135, 'Kate Winslet'), (136, 'Cate Blanchett'), (137, 'Laura Linney'), (138, 'Natalie Portman'), (139, 'Sophie Okonedo'), (140, 'Virginia Madsen'), (141, 'Ben Kingsley'), (142, 'Bill Murray'), (143, 'Johnny Depp'), (144, 'Jude Law'), (145, 'Sean Penn'), (146, 'Alec Baldwin'), (147, 'Benicio Del Toro'), (148, 'Djimon Hounsou'), (149, 'Ken Watanabe'), (150, 'Tim Robbins'), (151, 'Charlize Theron'), (152, 'Diane Keaton'), (153, 'Keisha Castle-Hughes'), (154, 'Naomi Watts'), (155, 'Samantha Morton'), (156, 'Holly Hunter'), (157, 'Marcia Gay Harden'), (158, 'Patricia Clarkson'), (159, 'Renée Zellweger'), (160, 'Shohreh Aghdashloo'), (161, 'Adrien Brody'), (162, 'Daniel Day-Lewis'), (163, 'Jack Nicholson'), (164, 'Michael Caine'), (165, 'Nicolas Cage'), (166, 'Chris Cooper'), (167, 'Christopher Walken'), (168, 'Ed Harris'), (169, 'John C. Reilly'), (170, 'Paul Newman'), (171, 'Diane Lane'), (172, 'Julianne Moore'), (173, 'Nicole Kidman'), (174, 'Renée Zellweger'), (175, 'Salma Hayek'), (176, 'Catherine Zeta-Jones'), (177, 'Julianne Moore'), (178, 'Kathy Bates'), (179, 'Meryl Streep'), (180, 'Queen Latifah'), (181, 'Denzel Washington'), (182, 'Russell Crowe'), (183, 'Sean Penn'), (184, 'Tom Wilkinson'), (185, 'Will Smith'), (186, 'Ben Kingsley'), (187, 'Ethan Hawke'), (188, 'Ian McKellen'), (189, 'Jim Broadbent'), (190, 'Jon Voight'), (191, 'Halle Berry'), (192, 'Judi Dench'), (193, 'Nicole Kidman'), (194, 'Renée Zellweger'), (195, 'Sissy Spacek'), (196, 'Helen Mirren'), (197, 'Jennifer Connelly'), (198, 'Kate Winslet'), (199, 'Maggie Smith'), (200, 'Marisa Tomei'), (201, 'Colin Firth'), (202, 'James Franco'), (203, 'Javier Bardem'), (204, 'Jeff Bridges'), (205, 'Jesse Eisenberg'), (206, 'Christian Bale'), (207, 'Geoffrey Rush'), (208, 'Jeremy Renner'), (209, 'John Hawkes'), (210, 'Mark Ruffalo'), (211, 'Annette Bening'), (212, 'Jennifer Lawrence'), (213, 'Michelle Williams'), (214, 'Natalie Portman'), (215, 'Nicole Kidman'), (216, 'Amy Adams'), (217, 'Hailee Steinfeld'), (218, 'Helena Bonham Carter'), (219, 'Jacki Weaver'), (220, 'Melissa Leo'), (221, 'Colin Firth'), (222, 'George Clooney'), (223, 'Jeff Bridges'), (224, 'Jeremy Renner'), (225, 'Morgan Freeman'), (226, 'Christoph Waltz'), (227, 'Christopher Plummer'), (228, 'Matt Damon'), (229, 'Stanley Tucci'), (230, 'Woody Harrelson'), (231, 'Carey Mulligan'), (232, 'Gabourey Sidibe'), (233, 'Helen Mirren'), (234, 'Meryl Streep'), (235, 'Sandra Bullock'), (236, 'Anna Kendrick'), (237, 'Maggie Gyllenhaal'), (238, \"Mo'Nique\"), (239, 'Penélope Cruz'), (240, 'Vera Farmiga'), (241, 'Brad Pitt'), (242, 'Frank Langella'), (243, 'Mickey Rourke'), (244, 'Richard Jenkins'), (245, 'Sean Penn'), (246, 'Heath Ledger'), (247, 'Josh Brolin'), (248, 'Michael Shannon'), (249, 'Philip Seymour Hoffman'), (250, 'Robert Downey Jr.'), (251, 'Angelina Jolie'), (252, 'Anne Hathaway'), (253, 'Kate Winslet'), (254, 'Melissa Leo'), (255, 'Meryl Streep'), (256, 'Amy Adams'), (257, 'Marisa Tomei'), (258, 'Penélope Cruz'), (259, 'Taraji P. Henson'), (260, 'Viola Davis'), (261, 'Daniel Day-Lewis'), (262, 'George Clooney'), (263, 'Johnny Depp'), (264, 'Tommy Lee Jones'), (265, 'Viggo Mortensen'), (266, 'Casey Affleck'), (267, 'Hal Holbrook'), (268, 'Javier Bardem'), (269, 'Philip Seymour Hoffman'), (270, 'Tom Wilkinson'), (271, 'Cate Blanchett'), (272, 'Ellen Page'), (273, 'Julie Christie'), (274, 'Laura Linney'), (275, 'Marion Cotillard'), (276, 'Amy Ryan'), (277, 'Cate Blanchett'), (278, 'Ruby Dee'), (279, 'Saoirse Ronan'), (280, 'Tilda Swinton'), (281, 'Forest Whitaker'), (282, 'Leonardo DiCaprio'), (283, \"Peter O'Toole\"), (284, 'Ryan Gosling'), (285, 'Will Smith'), (286, 'Alan Arkin'), (287, 'Djimon Hounsou'), (288, 'Eddie Murphy'), (289, 'Jackie Earle Haley'), (290, 'Mark Wahlberg'), (291, 'Helen Mirren'), (292, 'Judi Dench'), (293, 'Kate Winslet'), (294, 'Meryl Streep'), (295, 'Penélope Cruz'), (296, 'Abigail Breslin'), (297, 'Adriana Barraza'), (298, 'Cate Blanchett'), (299, 'Jennifer Hudson'), (300, 'Rinko Kikuchi'), (301, 'David Strathairn'), (302, 'Heath Ledger'), (303, 'Joaquin Phoenix'), (304, 'Philip Seymour Hoffman'), (305, 'Terrence Howard'), (306, 'George Clooney'), (307, 'Jake Gyllenhaal'), (308, 'Matt Dillon'), (309, 'Paul Giamatti'), (310, 'William Hurt'), (311, 'Charlize Theron'), (312, 'Felicity Huffman'), (313, 'Judi Dench'), (314, 'Keira Knightley'), (315, 'Reese Witherspoon'), (316, 'Amy Adams'), (317, 'Catherine Keener'), (318, 'Frances McDormand'), (319, 'Michelle Williams'), (320, 'Rachel Weisz'), (321, 'Clint Eastwood'), (322, 'Don Cheadle'), (323, 'Jamie Foxx'), (324, 'Johnny Depp'), (325, 'Leonardo DiCaprio'), (326, 'Alan Alda'), (327, 'Clive Owen'), (328, 'Jamie Foxx'), (329, 'Morgan Freeman'), (330, 'Thomas Haden Church'), (331, 'Annette Bening'), (332, 'Catalina Sandino Moreno'), (333, 'Hilary Swank'), (334, 'Imelda Staunton'), (335, 'Kate Winslet'), (336, 'Cate Blanchett'), (337, 'Laura Linney'), (338, 'Natalie Portman'), (339, 'Sophie Okonedo'), (340, 'Virginia Madsen'), (341, 'Ben Kingsley'), (342, 'Bill Murray'), (343, 'Johnny Depp'), (344, 'Jude Law'), (345, 'Sean Penn'), (346, 'Alec Baldwin'), (347, 'Benicio Del Toro'), (348, 'Djimon Hounsou'), (349, 'Ken Watanabe'), (350, 'Tim Robbins'), (351, 'Charlize Theron'), (352, 'Diane Keaton'), (353, 'Keisha Castle-Hughes'), (354, 'Naomi Watts'), (355, 'Samantha Morton'), (356, 'Holly Hunter'), (357, 'Marcia Gay Harden'), (358, 'Patricia Clarkson'), (359, 'Renée Zellweger'), (360, 'Shohreh Aghdashloo'), (361, 'Adrien Brody'), (362, 'Daniel Day-Lewis'), (363, 'Jack Nicholson'), (364, 'Michael Caine'), (365, 'Nicolas Cage'), (366, 'Chris Cooper'), (367, 'Christopher Walken'), (368, 'Ed Harris'), (369, 'John C. Reilly'), (370, 'Paul Newman'), (371, 'Diane Lane'), (372, 'Julianne Moore'), (373, 'Nicole Kidman'), (374, 'Renée Zellweger'), (375, 'Salma Hayek'), (376, 'Catherine Zeta-Jones'), (377, 'Julianne Moore'), (378, 'Kathy Bates'), (379, 'Meryl Streep'), (380, 'Queen Latifah'), (381, 'Denzel Washington'), (382, 'Russell Crowe'), (383, 'Sean Penn'), (384, 'Tom Wilkinson'), (385, 'Will Smith'), (386, 'Ben Kingsley'), (387, 'Ethan Hawke'), (388, 'Ian McKellen'), (389, 'Jim Broadbent'), (390, 'Jon Voight'), (391, 'Halle Berry'), (392, 'Judi Dench'), (393, 'Nicole Kidman'), (394, 'Renée Zellweger'), (395, 'Sissy Spacek'), (396, 'Helen Mirren'), (397, 'Jennifer Connelly'), (398, 'Kate Winslet'), (399, 'Maggie Smith'), (400, 'Marisa Tomei')]\n"
     ]
    }
   ],
   "source": [
    "test_actor = \"select * from actors \"\n",
    "\n",
    "print(sql_runner(test_actor))"
   ]
  },
  {
   "cell_type": "code",
   "execution_count": 32,
   "metadata": {
    "collapsed": false
   },
   "outputs": [
    {
     "data": {
      "text/plain": [
       "<sqlite3.Cursor at 0x7f21bc657f10>"
      ]
     },
     "execution_count": 32,
     "metadata": {},
     "output_type": "execute_result"
    }
   ],
   "source": [
    "table_movies = \"CREATE TABLE movies_actors (id INTEGER PRIMARY KEY, movie_id INTEGER REFERENCES movies(id), actor_id INTEGER REFERENCES actors(id))\"\n",
    "\n",
    "cursor.execute(table_movies)"
   ]
  },
  {
   "cell_type": "code",
   "execution_count": 34,
   "metadata": {
    "collapsed": false
   },
   "outputs": [
    {
     "name": "stdout",
     "output_type": "stream",
     "text": [
      "[]\n"
     ]
    }
   ],
   "source": [
    "test_m_a = \"select * from movies_actors \"\n",
    "\n",
    "print(sql_runner(test_m_a))"
   ]
  },
  {
   "cell_type": "code",
   "execution_count": null,
   "metadata": {
    "collapsed": true
   },
   "outputs": [],
   "source": []
  }
 ],
 "metadata": {
  "kernelspec": {
   "display_name": "Python 3",
   "language": "python",
   "name": "python3"
  },
  "language_info": {
   "codemirror_mode": {
    "name": "ipython",
    "version": 3
   },
   "file_extension": ".py",
   "mimetype": "text/x-python",
   "name": "python",
   "nbconvert_exporter": "python",
   "pygments_lexer": "ipython3",
   "version": "3.4.3"
  }
 },
 "nbformat": 4,
 "nbformat_minor": 0
}
